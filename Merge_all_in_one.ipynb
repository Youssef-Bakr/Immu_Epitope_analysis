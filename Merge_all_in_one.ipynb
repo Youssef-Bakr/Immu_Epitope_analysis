{
 "cells": [
  {
   "cell_type": "markdown",
   "id": "708f6436-58a8-43a7-a5ac-0802fef34f95",
   "metadata": {},
   "source": [
    "## config"
   ]
  },
  {
   "cell_type": "code",
   "execution_count": 1,
   "id": "f9af32c5-609b-43fa-84e9-227a1e036247",
   "metadata": {},
   "outputs": [],
   "source": [
    "import os\n",
    "import glob\n",
    "import re"
   ]
  },
  {
   "cell_type": "code",
   "execution_count": 2,
   "id": "3f26d716-39c6-4155-b854-ddd8315f399e",
   "metadata": {},
   "outputs": [],
   "source": [
    "path = \"/home/jovyan/work/02.ResDev/12.TAA_epitope_human/05.AML_TAA_Epitope\"\n",
    "path_mhcI = path + \"/02.protein_antigen_prediction/parsed_res_MHCI\"\n",
    "path_mhcII = path + \"/02.protein_antigen_prediction/parsed_res_MHCII\"\n",
    "homo_bed = path + \"/03.homologous/homo_peptide.bed\"\n",
    "trans_memb = path + \"/04.TransMembrane.DeepTMHMM/TransMembrane.bed\"\n",
    "enzymedigest = path + \"/06.EnzymeDigest/protein.merge.enzymedigest\"\n",
    "outpath = path + \"/05.Deliverables/EpitopePresent\"\n",
    "outpath1 = path + \"/05.Deliverables/EpitopePresent/MHCI\"\n",
    "outpath2 = path + \"/05.Deliverables/EpitopePresent/MHCII\"\n",
    "try:\n",
    "    os.mkdir(outpath)\n",
    "except:\n",
    "    pass\n",
    "try:\n",
    "    os.mkdir(outpath1)\n",
    "except:\n",
    "    pass\n",
    "try:\n",
    "    os.mkdir(outpath2)\n",
    "except:\n",
    "    pass"
   ]
  },
  {
   "cell_type": "code",
   "execution_count": 3,
   "id": "dbe32094-9ef2-4732-a16e-5b9b22fe7d18",
   "metadata": {},
   "outputs": [
    {
     "name": "stdout",
     "output_type": "stream",
     "text": [
      "01.Protein.merge.aa.fasta       03.Homo_peptide.bed   EpitopePresent.tar.gz\n",
      "02.Immunogenicity.netMHCI.bed   04.TransMembrane.bed\n",
      "02.Immunogenicity.netMHCII.bed  \u001b[0m\u001b[01;34mEpitopePresent\u001b[0m/\n"
     ]
    }
   ],
   "source": [
    "ls /home/jovyan/work/02.ResDev/12.TAA_epitope_human/05.AML_TAA_Epitope/05.Deliverables/"
   ]
  },
  {
   "cell_type": "code",
   "execution_count": 4,
   "id": "51cc1f2d-ecbb-4d7f-a4d8-a017f64dc1ef",
   "metadata": {},
   "outputs": [
    {
     "name": "stdout",
     "output_type": "stream",
     "text": [
      "(39, 'GGCTCCCCACGGGGTACCCATAACTTGACAGTAGATCTC')\n"
     ]
    }
   ],
   "source": [
    "import difflib\n",
    "def get_overlap(s1, s2):\n",
    "    s = difflib.SequenceMatcher(None, s1, s2)\n",
    "    pos_a, pos_b, size = s.find_longest_match(0, len(s1), 0, len(s2)) \n",
    "    return(size,s1[pos_a:pos_a+size])\n",
    "s1 = \"CGATTCCAGGCTCCCCACGGGGTACCCATAACTTGACAGTAGATCTC\"\n",
    "s2 = \"GGCTCCCCACGGGGTACCCATAACTTGACAGTAGATCTCGTCCAGACCCCTAGC\"\n",
    "\n",
    "print(get_overlap(s1, s2)) # GGCTCCCCACGGGGTACCCATAACTTGACAGTAGATCTC"
   ]
  },
  {
   "cell_type": "code",
   "execution_count": 5,
   "id": "dd475435-2a50-41ad-8d2b-077906ba6c88",
   "metadata": {},
   "outputs": [],
   "source": [
    "## Parser the TransMemb.bed\n",
    "TM_parsDict={}\n",
    "flagDict={\"o\":\"outside\",\"T\":\"TMhelix\",\"i\":\"inside\",\"s\":\"signal\"}\n",
    "'''\n",
    "    parser the tranmembe.bed file\n",
    "    TM_flag=outside,TMhelix,inside\n",
    "    outside:o\n",
    "    TMhelix:t\n",
    "    inside:i\n",
    "'''\n",
    "with open(trans_memb,\"r\") as tmf:\n",
    "    for line in tmf.readlines():\n",
    "        if line.startswith(\"sp|\"):\n",
    "            seqid = line.split(\"\\t\")[0].split(\"|\")[1]\n",
    "            if seqid not in TM_parsDict.keys():\n",
    "                TM_parsDict[seqid] = \"\"\n",
    "            pos1 = int(line.split(\"\\t\")[1])\n",
    "            pos2 = int(line.split(\"\\t\")[2])\n",
    "            TM_flag = line.split(\"\\t\")[3][0]\n",
    "            TM_parsDict[seqid] += TM_flag*(1+pos2-pos1)"
   ]
  },
  {
   "cell_type": "code",
   "execution_count": 6,
   "id": "ea726cdf-e200-46c1-9467-6f05bdcb3b2a",
   "metadata": {},
   "outputs": [],
   "source": [
    "#TM_parsDict"
   ]
  },
  {
   "cell_type": "code",
   "execution_count": 7,
   "id": "223fc787-7c35-4d15-85a8-01f1a46ffee6",
   "metadata": {},
   "outputs": [],
   "source": [
    "## Parser the Homologous_peptide.bed\n",
    "Homo_parsDict={}\n",
    "with open(homo_bed,\"r\") as hmf:\n",
    "    for line in hmf.readlines():\n",
    "        if line.startswith(\"sp|\"):\n",
    "            #print(line)\n",
    "            seqid = line.split(\"\\t\")[0].split(\"|\")[1]\n",
    "            if seqid not in Homo_parsDict.keys():\n",
    "                length = len(TM_parsDict[seqid])\n",
    "                Homo_parsDict[seqid] = [0]*length\n",
    "            pos1 = int(line.split(\"\\t\")[1])-1\n",
    "            pos2 = int(line.split(\"\\t\")[2])-1\n",
    "            homoid = line.split(\"\\t\")[3]\n",
    "            for pos in range(pos1,pos2):\n",
    "                #print(pos)\n",
    "                if Homo_parsDict[seqid][pos] == 0:\n",
    "                    Homo_parsDict[seqid][pos] = [homoid]\n",
    "                else:\n",
    "                    Homo_parsDict[seqid][pos].append(homoid)"
   ]
  },
  {
   "cell_type": "code",
   "execution_count": 8,
   "id": "062ce964-f17b-4267-ab85-513de8af472a",
   "metadata": {},
   "outputs": [
    {
     "name": "stdout",
     "output_type": "stream",
     "text": [
      "01.Protein.merge.aa.fasta       03.Homo_peptide.bed   EpitopePresent.tar.gz\n",
      "02.Immunogenicity.netMHCI.bed   04.TransMembrane.bed\n",
      "02.Immunogenicity.netMHCII.bed  \u001b[0m\u001b[01;34mEpitopePresent\u001b[0m/\n"
     ]
    }
   ],
   "source": [
    "ls /home/jovyan/work/02.ResDev/12.TAA_epitope_human/05.AML_TAA_Epitope/05.Deliverables"
   ]
  },
  {
   "cell_type": "code",
   "execution_count": 9,
   "id": "ec25b4e3-6e3f-4b31-8567-4b5b42df6e0c",
   "metadata": {},
   "outputs": [],
   "source": [
    "#print(Homo_parsDict)"
   ]
  },
  {
   "cell_type": "code",
   "execution_count": 10,
   "id": "8d735a9d-b663-4ff9-be62-81ec73d33b8d",
   "metadata": {},
   "outputs": [
    {
     "name": "stdout",
     "output_type": "stream",
     "text": [
      "26\n",
      "2\n",
      "67\n"
     ]
    }
   ],
   "source": [
    "a=\"MMFPLARNALSSLKIQSILQSMARHSHVKHSPDFHDKYGNAVLASGTAFCVATWVFTATQIGIEWNLSPVGRVTPKEWKHQ\"\n",
    "b=[\"HVKHSPDFHDK\",\"FPLARNAL\",\"SPVGRVTPKEW\"]\n",
    "for i in b:\n",
    "    print(a.find(i))\n",
    "    "
   ]
  },
  {
   "cell_type": "code",
   "execution_count": 11,
   "id": "2cac6839-b048-48c8-b400-250efe4dfd06",
   "metadata": {},
   "outputs": [
    {
     "name": "stdout",
     "output_type": "stream",
     "text": [
      "{'P30939': ['EFKHEKSW', ' IIVTRKLHHP', ' NSLINPLIYTI', ' NRMPSKILV', ' CSILHLSAIA', ' KIYRAAKTLYHK', ' SEFKHEKSW', ' IVYIVRESW', ' NSLINPLIY', ' KEEVNGQVL', ' STKSVSTSY', ' LVMPFSIVY', ' FYIPLALIL', ' LINPLIYTI'], 'Q00534': ['ETFEHPNVV', ' ETFEHPNVVRL', ' QMALTSVVV', ' FGLARIYSF', ' RADQQYECV', ' KLADFGLARIYSFQMALTSVVVTLW', ' LTSVVVTLW', ' DFGLARIY', ' SRTDRETKLTLVF', ' RTDRETKL', ' MPLSTIREV', ' RIYSFQMAL', ' HVDQDLTTY', ' MALTSVVV', ' KSAQPIEKF', ' QQYECVAEI', ' HRDLKPQNI', ' ALTSVVVTL', ' KLADFGLAR', ' ALPRQAFHSKSAQPIEKF', ' KPQNILVTS', ' HRVVHRDL', ' LSTIREVAV', ' RADQQYECVAEIGEGAYGKVF', ' SRTDRETKL', ' KLADFGLARI', ' STIREVAVL', ' ETFEHPNVVR', ' RETKLTLVF', ' HSKSAQPIEK', ' LGKDLLLK', ' AEIGEGAYGKVF', ' FEHPNVVRL', ' GMPLSTIREV', ' GEGAYGKVF', ' HRVVHRDLKPQNILVTS', ' DELGKDLLL', ' AYSALSHPYF', ' LARIYSFQM', ' DELGKDLLLK', ' FGLARIYSFQMALTSVVVTLW', ' ALPRQAFHSK', ' GMPLSTIREVAV', ' GMPLSTIREVA', ' FEHPNVVR', ' MPLSTIREVA', ' AYSALSHPY'], 'Q5HYN5': ['TDKTEKVAV', ' SQREINADIKR', ' KTEKVAVD', ' RRDFVKHLK', ' TDKTEKVAVDPE', ' KIFEMLEGV', ' RRDFVKHLKK', ' ETASSPKSQR', ' TDKTEKVAVD', ' AVDPETVFK', ' MTDKTEKV'], 'Q8IYM0': ['ILLEKIASF', ' RYMATVVENLN', ' IFLENIDRL', ' ISTQLSDI', ' SPRREPEQL', ' MELGALRLQY', ' NVHLNIPEV', ' MELGALRL', ' EPMKEEQLF', ' GEVRAIRYM', ' RRFPKKWER', ' AMMKEKHLY', ' FPKKWERPVA', ' ATKELSSQR', ' ALLKQVEI', ' LEQEHQEKL', ' ERPVAESL', ' DALLKQVEI', ' DVFGSKDTESL', ' HIRPSGPTY', ' QLSDILDNV', ' KVLPLSLIATK', ' GEDVERRIF', ' HPDIPRLLT', ' QEHQEKLRQW', ' IFLENIDRLQ', ' FGSKDTESL', ' KTEVASSSY', ' RIFTPTSRW'], 'O75388': ['QEKFFQSL', ' LVLVSAFFI', ' TCAHLIRA', ' LRPLTVVIL', ' LLVLVSAFFI', ' LSLPIAMYY', ' RRVMLKEIY', ' LKEIYHPRMLLILQASFAL', ' GTCAHLIRAK'], 'P15814': ['QVMHEGSTVEKTV', ' LLRPTAASQ', ' HGLLRPTAA', ' SNNKYAASSYL', ' DFYPGILTV', ' KHNSVTHVF', ' GLAVVTHGL', ' NNKYAASSYL', ' RPTAASQSR', ' GLAVVTHGLLRPTAA', ' EELQANKATL', ' LTVLSQPK', ' NNKYAASSYLS', ' QVMHEGSTVEK', ' MHEGSTVEKTV', ' RPTAASQSRAL'], 'P10242': ['RWSVIAKHL', ' AETLQFIDSF', ' DDWKVIANY', ' GEHHSTPSL', ' EHHSTPSL', ' IVNVPQPAA', ' SVIAKHLKGR', ' KRLGNRWAEIAK', ' NELKGQQVL', ' NSDLEMPSL', ' MPSLTSTPL', ' LPATGQPTV', ' QKENTVFRTPA', ' LKAFTVPKNRSL', ' FSARTLVM', ' EEDQRVIEL', ' SQPAVATSF', ' HSTTIADHTR', ' SHVPYPVAL', ' EDRIIYQAH', ' MTSSSQARKY', ' NSDLEMPSLTSTPL', ' AEIAKLLPGRTDNAIKNHW', ' FTVPKNRSL', ' RVIELVQKY', ' DESGIVAEF', ' AAAAIQRHY', ' QLPATGQPTV', ' KTQKENTVFR', ' KEEDQRVIEL', ' FAQAPPTAQLPATGQPTV', ' FAQAPPTAQLP', ' NAIKNHWNSTM', ' SPRTPTPFKHAL', ' RTDNAIKNHW', ' AEFQENGPPLL', ' DESGIVAEFQENGPPLL', ' ILDNVKNLL', ' KTQKENTVF', ' KENTVFRTP', ' DRIIYQAH', ' AQAPPTAQL', ' LLMSTENELKGQQVL', ' GTDDWKVIANY', ' KEEDQRVIELVQKY', ' KRWSVIAKHLKGR', ' LKAFTVPKNRS', ' LLMSTENEL', ' ALHVNIVNV', ' LEMPSLTST', ' SHVPYPVALHVNIVNVPQPAA', ' AEIAKLLPG', ' SDLEMPSL', ' KRWSVIAKHL', ' ETLQFIDSF', ' KTQKENTVFRTPA'], 'Q01851': ['QPRPSSEKI', ' LSHNNMIAL', ' STSTVPLAH', ' AEALAAVDIA', ' IALKPILQAW', ' HSSSEAIRR', ' KRMKFSATY', ' AAIAEKLDL', ' IAAPEKRSL', ' QADVGSAL', ' RRIKLGVTQA', ' HPHPHMHSL', ' AIAEKLDLK', ' ALAAVDIAV', ' HPFKPDATY', ' QPRPSSEKIAA'], 'Q96A99': ['DTRLRALDL', ' ESQAVAQAVNR', ' ASVQGELAQLK', ' HLQNIASNY', ' SVQGELAQLK', ' KEFPTGAIL', ' GTAPKDPRQQAW', ' GRLGTLLSY', ' RRLVATGSRF', ' KEFPTGAILTL', ' FLSPGFVTAL', ' EVANLAIGK', ' STQGRYWLHVDRRLVATGSRF', ' TASGRLGTLLSY', ' LSPGFVTAL', ' APVGPRKPF', ' ALAGGFVQGA', ' LLPGSIHFV', ' RRLEEQFRRF', ' GRLPVAHPGT', ' LLPGSIHF', ' ALEGRLPVA', ' FPTGAILTL'], 'Q6ZV50': ['KLWLLNAL', ' KLKEVTLFV', ' RSKEEFTKL', ' LLLEYMIHI', ' LPMGQEALITL', ' FLADEYCNYCRDILRNVEDLLTSF', ' QSCLEEEEEEE', ' TAMGNKLIQV', ' RYPVGVSNM', ' SPMKTDPVGSPL', ' RRKTYLSNM', ' GVIQWLVDNF', ' DPVGSPLSEF', ' STDLRVFL', ' MPTHMGQGRY', ' MMAFLADEY', ' GRYPVGVSNM', ' DGICIKKSSF', ' EEFTKLAASF', ' LPMGQEALI', ' SCLEEEEEEE', ' SCLEEEEEEED', ' CIKKSSFFY', ' SLLGTSTDLRV', ' CLEEEEEEE', ' MSLPDVCQLF', ' KLKEVTLFVKR'], 'P04053': ['KSLPFTIISM', ' IAVQKISQY', ' RPRQTGALM', ' ALYDKTKRIFL', ' FAHLGLDYI', ' SSWQEGKTW', ' ALYDKTKRI', ' SLKFTRMQK', ' RENEDSCVTF', ' KVRSDKSLKFTRMQK', ' GESSEVKAV', ' FLPDAFVTM', ' KLFTSVFGVGLK', ' KLFTSVFGV', ' KVRSDKSLKF', ' FLYYEDLVSC', ' KVRSDKSLK', ' LPFTIISM', ' KLFTSVFGVGL', ' KMILDNHAL'], 'P40238': ['LEWQHPSSW', ' HSYLPLSYW', ' EILPKSSER', ' FPDQEEVRL', ' QQDHASSQGF', ' SPSREASAL', ' SPFWIHQA', ' GSWSLPVTV', ' FPDQEEVRLFFPLHLW', ' SIIHILVEV', ' KVLEPPLGA', ' QQDHASSQGFF', ' RLFFPLHLW', ' KVLEPPLGAR', ' LGLSAVLGLL', ' LLYAYPREK'], 'P19544': ['MTKLQLAL', ' QRNMTKLQL', ' PAPPPPPPPPP', ' RVPGVAPTL', ' APPPPPPPPP', ' PPAPPPPPPP', ' ALLPAVPSL', ' KRYFKLSHL', ' RRFSRSDQL', ' PPPPPPPPP', ' GVFRGIQDV', ' PPAPPPPPP', ' MTSQLECMTW', ' RMFPNAPYL', ' PPAPPPPPPPPP', ' GQFTGTAGACRY', ' RRFSRSDQLK', ' AQFPNHSF', ' NLYQMTSQL']}\n"
     ]
    }
   ],
   "source": [
    "## Parser the enzymedigest file\n",
    "EnzDigeDict={}\n",
    "with open(enzymedigest,\"r\") as enzymef:\n",
    "    for line in enzymef.readlines():\n",
    "        refseq = re.split(',\"\\[',line)[0].split(\",\")[-1]\n",
    "        refid = re.split(',\"\\[',line)[0].split(\"|\")[1]\n",
    "        seqlist = re.split(',\"\\[',line)[1].strip().replace(']\"','').replace(\"'\",\"\").split(\",\")\n",
    "        EnzDigeDict[refid]=seqlist\n",
    "print(EnzDigeDict)"
   ]
  },
  {
   "cell_type": "code",
   "execution_count": 12,
   "id": "f82b836a-217b-4169-ac9e-fba1fa43ba12",
   "metadata": {},
   "outputs": [
    {
     "name": "stdout",
     "output_type": "stream",
     "text": [
      "ls: cannot access '/home/jovyan/work/02.ResDev/12.TAA_epitope_human/05.AML_TAA_Epitope/06.EnzymeDisgest/protein.merge.enzymedigest': No such file or directory\n"
     ]
    }
   ],
   "source": [
    "ls /home/jovyan/work/02.ResDev/12.TAA_epitope_human/05.AML_TAA_Epitope/06.EnzymeDisgest/protein.merge.enzymedigest"
   ]
  },
  {
   "cell_type": "code",
   "execution_count": 13,
   "id": "040d2680-3aa3-4c0a-95fa-f737ff0506ef",
   "metadata": {},
   "outputs": [],
   "source": [
    "## Parser the netMHC.csv\n",
    "mergeoutfile =  open(outpath+\"/MHCI_Epitopeonly_SB_WB.csv\",\"w\")\n",
    "filenum = 0\n",
    "for file in glob.glob(path_mhcI + \"/*.netMHC.csv\"):\n",
    "    filenum +=1\n",
    "    filename= os.path.basename(file)\n",
    "    outfile = open(outpath1+\"/\"+filename,\"w\")\n",
    "    with open(file,\"r\") as eptf:\n",
    "        for line in eptf.readlines():\n",
    "            itemlist = line.rstrip().split(\",\")\n",
    "            \"\"\"\n",
    "            itemlist is the line content of netMHC result\n",
    "            \"\"\"\n",
    "            if line.startswith(\"Pos\"):\n",
    "                appendlist = [\"TransMemb\",\"InCutmerRate\",\"InCutmerRegion\",\"HomoExsit\",\"HomoId\"]\n",
    "                outfile.write(\",\".join(itemlist+appendlist)+\"\\n\")\n",
    "                if filenum == 1:\n",
    "                    mergeoutfile.write(\",\".join(itemlist+appendlist)+\"\\n\")\n",
    "            else:\n",
    "                pos1 = int(itemlist[0])-1\n",
    "                peptide = itemlist[2]\n",
    "                pos2 = pos1 + len(peptide)\n",
    "                seqid = itemlist[10].split(\"_\")[1]\n",
    "                midpos = int((pos1+pos2)/2)\n",
    "                \n",
    "                ## get Transmembrane info\n",
    "                TM_f = TM_parsDict[seqid][midpos]\n",
    "                TM_flag = flagDict[TM_f]\n",
    "                \n",
    "                ## get enzymedigest info\n",
    "                size0 = 0\n",
    "                overseq0 = \"\"\n",
    "                for seq in EnzDigeDict[seqid]:\n",
    "                    size,overseq = get_overlap(peptide,seq)\n",
    "                    if size > size0:\n",
    "                        size0 = size\n",
    "                        overseq0 = overseq\n",
    "                Cut_flag = str(size0)+\"/\"+str(len(peptide))\n",
    "                Cut_seq = overseq0\n",
    "                \n",
    "                ## get homolgous info\n",
    "                checklist = [homo_f==0 for homo_f in Homo_parsDict[seqid][pos1:pos2]]\n",
    "                if  sum(checklist)/(pos2-pos1) >= 0.05:\n",
    "                    HomoEx = \"N\"\n",
    "                    Homo_flag = \"\"\n",
    "                else:\n",
    "                    HomoEx = \"Y\"\n",
    "                    flagtemp_list = []\n",
    "                    for flag in Homo_parsDict[seqid][pos1:pos2]:\n",
    "                        if flag !=0:\n",
    "                            flagtemp_list += flag\n",
    "                    Homo_flag = \";\".join(list(dict.fromkeys(flagtemp_list)))\n",
    "                    \n",
    "                ##  output the results with filtering the \"SB\" lines\n",
    "                if (itemlist[-1] == \"SB\") or (itemlist[-1] == \"WB\"):\n",
    "                    appendlist = [TM_flag,Cut_flag,Cut_seq,HomoEx,Homo_flag]\n",
    "                    mergeoutfile.write(\",\".join(itemlist+appendlist)+\"\\n\")\n",
    "                else:\n",
    "                    appendlist = [\"\",TM_flag,Cut_flag,HomoEx,Homo_flag]\n",
    "                outfile.write(\",\".join(itemlist+appendlist)+\"\\n\")\n",
    "    outfile.close()\n"
   ]
  },
  {
   "cell_type": "code",
   "execution_count": 14,
   "id": "6a9d9a9b-65b7-401c-8988-3ab3a31decbe",
   "metadata": {},
   "outputs": [],
   "source": [
    "## Parser the netMHC.csv\n",
    "mergeoutfile2 =  open(outpath+\"/MHCII_Epitope_only_SB_WB.csv\",\"w\")\n",
    "filenum = 0\n",
    "for file in glob.glob(path_mhcII + \"/*.netMHC.csv\"):\n",
    "    filenum += 1\n",
    "    filename= os.path.basename(file)\n",
    "    outfile = open(outpath2+\"/\"+filename,\"w\")\n",
    "    with open(file,\"r\") as eptf:\n",
    "        for line in eptf.readlines():\n",
    "            itemlist = line.rstrip().split(\",\")\n",
    "            if line.startswith(\"Pos\"):\n",
    "                appendlist = [\"TransMemb\",\"InCutmerRate\",\"InCutmerRegion\",\"HomoExsit\",\"HomoId\"]\n",
    "                outfile.write(\",\".join(itemlist+appendlist)+\"\\n\")\n",
    "                if filenum == 1:\n",
    "                    mergeoutfile2.write(\",\".join(itemlist+appendlist)+\"\\n\")\n",
    "            else:\n",
    "                pos1 = int(itemlist[0])-1\n",
    "                peptide = itemlist[2]\n",
    "                pos2 = pos1 + len(peptide)\n",
    "                seqid = itemlist[6].split(\"|\")[1]\n",
    "                midpos = int((pos1+pos2)/2)\n",
    "                \n",
    "                ## get Transmembrane info\n",
    "                TM_f = TM_parsDict[seqid][midpos]\n",
    "                TM_flag = flagDict[TM_f]\n",
    "                \n",
    "                ## get enzymedigest info\n",
    "                size0 = 0\n",
    "                overseq0 = \"\"\n",
    "                for seq in EnzDigeDict[seqid]:\n",
    "                    size,overseq = get_overlap(peptide,seq)\n",
    "                    if size > size0:\n",
    "                        size0 = size\n",
    "                        overseq0 = overseq\n",
    "                Cut_flag = str(size0)+\"/\"+str(len(peptide))\n",
    "                Cut_seq = overseq0\n",
    "                \n",
    "                ## get homolgous info\n",
    "                checklist = [homo_f==0 for homo_f in Homo_parsDict[seqid][pos1:pos2]]\n",
    "                if  sum(checklist)/(pos2-pos1) >= 0.05:\n",
    "                    HomoEx = \"N\"\n",
    "                    Homo_flag = \"\"\n",
    "                else:\n",
    "                    HomoEx = \"Y\"\n",
    "                    flagtemp_list = []\n",
    "                    for flag in Homo_parsDict[seqid][pos1:pos2]:\n",
    "                        if flag !=0:\n",
    "                            flagtemp_list += flag\n",
    "                    Homo_flag = \";\".join(list(dict.fromkeys(flagtemp_list)))\n",
    "                        \n",
    "                ##  output the results with filtering the \"SB\" lines\n",
    "                if (itemlist[-1] == \"SB\") or (itemlist[-1] == \"WB\"):\n",
    "                    appendlist = [TM_flag,Cut_flag,Cut_seq,HomoEx,Homo_flag]\n",
    "                    mergeoutfile2.write(\",\".join(itemlist+appendlist)+\"\\n\")\n",
    "                else:\n",
    "                    appendlist = [\"\",TM_flag,HomoEx,Homo_flag]\n",
    "                outfile.write(\",\".join(itemlist+appendlist)+\"\\n\")\n",
    "    outfile.close()"
   ]
  },
  {
   "cell_type": "code",
   "execution_count": 15,
   "id": "086e723d-f739-48b8-9150-18ec99fb8571",
   "metadata": {},
   "outputs": [
    {
     "name": "stdout",
     "output_type": "stream",
     "text": [
      "['a', 'b', 'c']\n"
     ]
    }
   ],
   "source": [
    "mylist = [\"a\", \"b\", \"a\", \"c\", \"c\"]\n",
    "mylist = list(dict.fromkeys(mylist))\n",
    "print(mylist)"
   ]
  },
  {
   "cell_type": "code",
   "execution_count": 16,
   "id": "1b171a04-923e-4041-80b1-8f96fc71f33c",
   "metadata": {},
   "outputs": [
    {
     "data": {
      "text/plain": [
       "'a;b;c'"
      ]
     },
     "execution_count": 16,
     "metadata": {},
     "output_type": "execute_result"
    }
   ],
   "source": [
    "\";\".join(list(dict.fromkeys(mylist)))"
   ]
  },
  {
   "cell_type": "code",
   "execution_count": 17,
   "id": "30820400-d110-4e68-9479-b68976a8263d",
   "metadata": {},
   "outputs": [
    {
     "name": "stdout",
     "output_type": "stream",
     "text": [
      "6 14\n"
     ]
    }
   ],
   "source": [
    "fasta = 'CGTAGCGGCTGAGTGCGCGGATAGCGCGTA'\n",
    "target = 'CGGCTGAGT'\n",
    "\n",
    "start = fasta.find(target)+1\n",
    "end = start + len(target) -1\n",
    "\n",
    "print(start, end)"
   ]
  },
  {
   "cell_type": "code",
   "execution_count": 18,
   "id": "d12915d3-b7be-4afc-9e96-c3174ba3a873",
   "metadata": {},
   "outputs": [
    {
     "name": "stdout",
     "output_type": "stream",
     "text": [
      "GGCTCCCCACGGGGTACCCATAACTTGACAGTAGATCTC\n"
     ]
    }
   ],
   "source": [
    "import difflib\n",
    "\n",
    "def get_overlap(s1, s2):\n",
    "    s = difflib.SequenceMatcher(None, s1, s2)\n",
    "    pos_a, pos_b, size = s.find_longest_match(0, len(s1), 0, len(s2)) \n",
    "    return s1[pos_a:pos_a+size]\n",
    "\n",
    "s1 = \"CGATTCCAGGCTCCCCACGGGGTACCCATAACTTGACAGTAGATCTC\"\n",
    "s2 = \"GGCTCCCCACGGGGTACCCATAACTTGACAGTAGATCTCGTCCAGACCCCTAGC\"\n",
    "\n",
    "print(get_overlap(s1, s2)) # GGCTCCCCACGGGGTACCCATAACTTGACAGTAGATCTC"
   ]
  },
  {
   "cell_type": "code",
   "execution_count": null,
   "id": "4896f0d1-2ac8-4302-95cf-f34381a5f90a",
   "metadata": {},
   "outputs": [],
   "source": []
  }
 ],
 "metadata": {
  "kernelspec": {
   "display_name": "Python 3 (ipykernel)",
   "language": "python",
   "name": "python3"
  },
  "language_info": {
   "codemirror_mode": {
    "name": "ipython",
    "version": 3
   },
   "file_extension": ".py",
   "mimetype": "text/x-python",
   "name": "python",
   "nbconvert_exporter": "python",
   "pygments_lexer": "ipython3",
   "version": "3.9.12"
  }
 },
 "nbformat": 4,
 "nbformat_minor": 5
}
