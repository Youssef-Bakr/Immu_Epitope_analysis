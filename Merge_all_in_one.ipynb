{
 "cells": [
  {
   "cell_type": "markdown",
   "id": "708f6436-58a8-43a7-a5ac-0802fef34f95",
   "metadata": {},
   "source": [
    "## config"
   ]
  },
  {
   "cell_type": "code",
   "execution_count": 1,
   "id": "f9af32c5-609b-43fa-84e9-227a1e036247",
   "metadata": {},
   "outputs": [],
   "source": [
    "import os\n",
    "import glob\n",
    "import re\n",
    "import pandas as pd"
   ]
  },
  {
   "cell_type": "code",
   "execution_count": 2,
   "id": "4fded304-7e4d-4a0f-8a7f-4a8c414a6314",
   "metadata": {},
   "outputs": [],
   "source": [
    "## config the path where multiple files contained.\n",
    "## NEED modify every time it runs !!!\n",
    "\n",
    "path = \"/home/jovyan/work/02.ResDev/12.TAA_epitope_human/05.AML_TAA_Epitope\"\n",
    "homobed_or_blasp = \"homoblastp\"\n",
    "'''\n",
    "select list is \"homobed\",\"homoblastp\",\"bedblastp\"\n",
    "\"homobed\" means homobed file as input only\n",
    "\"homoblastp\" means homoblastp file as input only\n",
    "\"bedblastp\" means homobed and homoblastp files both as input\n",
    "'''\n",
    "identity = 65"
   ]
  },
  {
   "cell_type": "code",
   "execution_count": 3,
   "id": "3f26d716-39c6-4155-b854-ddd8315f399e",
   "metadata": {},
   "outputs": [],
   "source": [
    "## config input files under the given path.\n",
    "## No NEED modify every time it runs !!!\n",
    "\n",
    "path_mhcI = path + \"/02.protein_antigen_prediction/parsed_res_MHCI\"\n",
    "path_mhcII = path + \"/02.protein_antigen_prediction/parsed_res_MHCII\"\n",
    "trans_memb = path + \"/04.TransMembrane.DeepTMHMM/TransMembrane.bed\"\n",
    "enzymedigest = path + \"/05.EnzymeDigest/protein.merge.enzymedigest\"\n",
    "\n",
    "if homobed_or_blasp==\"homobed\":\n",
    "    homo_bed = path + \"/03.homologous/homo_peptide.bed\"\n",
    "elif homobed_or_blasp== \"homoblastp\":\n",
    "    homo_blastp = path + \"/03.homologous/peptide_netMHC.blastp\"\n",
    "elif homobed_or_blasp== \"bedblastp\":\n",
    "    homo_bed = path + \"/03.homologous/homo_peptide.bed\"\n",
    "    homo_blastp = path + \"/03.homologous/peptide_netMHC.blastp\"\n",
    "\n",
    "outpath = path + \"/06.Deliverables/EpitopePresent\"\n",
    "outpath1 = path + \"/06.Deliverables/EpitopePresent/MHCI\"\n",
    "outpath2 = path + \"/06.Deliverables/EpitopePresent/MHCII\"\n",
    "try:\n",
    "    os.mkdir(outpath)\n",
    "except:\n",
    "    pass\n",
    "try:\n",
    "    os.mkdir(outpath1)\n",
    "except:\n",
    "    pass\n",
    "try:\n",
    "    os.mkdir(outpath2)\n",
    "except:\n",
    "    pass"
   ]
  },
  {
   "cell_type": "markdown",
   "id": "261617f8-8d47-40d4-9614-2ab7215de8df",
   "metadata": {},
   "source": [
    "#### Tools"
   ]
  },
  {
   "cell_type": "code",
   "execution_count": 4,
   "id": "51cc1f2d-ecbb-4d7f-a4d8-a017f64dc1ef",
   "metadata": {},
   "outputs": [
    {
     "name": "stdout",
     "output_type": "stream",
     "text": [
      "(39, 'GGCTCCCCACGGGGTACCCATAACTTGACAGTAGATCTC')\n"
     ]
    }
   ],
   "source": [
    "import difflib\n",
    "def get_overlap(s1, s2):\n",
    "    s = difflib.SequenceMatcher(None, s1, s2)\n",
    "    pos_a, pos_b, size = s.find_longest_match(0, len(s1), 0, len(s2)) \n",
    "    return(size,s1[pos_a:pos_a+size])\n",
    "s1 = \"CGATTCCAGGCTCCCCACGGGGTACCCATAACTTGACAGTAGATCTC\"\n",
    "s2 = \"GGCTCCCCACGGGGTACCCATAACTTGACAGTAGATCTCGTCCAGACCCCTAGC\"\n",
    "\n",
    "print(get_overlap(s1, s2)) # GGCTCCCCACGGGGTACCCATAACTTGACAGTAGATCTC"
   ]
  },
  {
   "cell_type": "code",
   "execution_count": 5,
   "id": "0a6a9f2c-4e12-4e74-93f6-c7367f0af142",
   "metadata": {},
   "outputs": [],
   "source": [
    "def get_homodict_bed(Homo_parsDict,seqid,pos1,pos2):\n",
    "    checklist = [homo_f==0 for homo_f in Homo_parsDict[seqid][pos1:pos2]]\n",
    "    if  sum(checklist)/(pos2-pos1) >= 0.05:\n",
    "        HomoEx = \"N\"\n",
    "        Homo_flag = \"\"\n",
    "    else:\n",
    "        HomoEx = \"Y\"\n",
    "        flagtemp_list = []\n",
    "        for flag in Homo_parsDict[seqid][pos1:pos2]:\n",
    "            if flag !=0:\n",
    "                flagtemp_list += flag\n",
    "        Homo_flag = \";\".join(list(dict.fromkeys(flagtemp_list)))\n",
    "    return(HomoEx,Homo_flag)\n",
    "\n",
    "def get_homodict_blastp(Homoblastp_parsDict,seqid,peptide):\n",
    "    try:\n",
    "        homolist = Homoblastp_parsDict[seqid][peptide]\n",
    "        if len(homolist) == 0:\n",
    "            Homo_flag = \"\"\n",
    "            HomoEx = \"N\"\n",
    "        else:\n",
    "            Homo_flag = ';'.join(homolist)\n",
    "            HomoEx = \"Y\"\n",
    "    except:\n",
    "        Homo_flag = \"\"\n",
    "        HomoEx = \"N\"\n",
    "    return(HomoEx,Homo_flag)\n",
    "    "
   ]
  },
  {
   "cell_type": "markdown",
   "id": "b7c7a83e-3d7c-4ea0-998c-02b336d0bd22",
   "metadata": {},
   "source": [
    "## Step1: Parser the TransMemb.bed"
   ]
  },
  {
   "cell_type": "code",
   "execution_count": 6,
   "id": "dd475435-2a50-41ad-8d2b-077906ba6c88",
   "metadata": {},
   "outputs": [],
   "source": [
    "## Parser the TransMemb.bed\n",
    "TM_parsDict={}\n",
    "flagDict={\"o\":\"outside\",\"T\":\"TMhelix\",\"i\":\"inside\",\"s\":\"signal\"}\n",
    "'''\n",
    "    parser the tranmembe.bed file\n",
    "    TM_flag=outside,TMhelix,inside\n",
    "    outside:o\n",
    "    TMhelix:t\n",
    "    inside:i\n",
    "'''\n",
    "with open(trans_memb,\"r\") as tmf:\n",
    "    for line in tmf.readlines():\n",
    "        if line.startswith(\"sp|\"):\n",
    "            seqid = line.split(\"\\t\")[0].split(\"|\")[1]\n",
    "            if seqid not in TM_parsDict.keys():\n",
    "                TM_parsDict[seqid] = \"\"\n",
    "            pos1 = int(line.split(\"\\t\")[1])\n",
    "            pos2 = int(line.split(\"\\t\")[2])\n",
    "            TM_flag = line.split(\"\\t\")[3][0]\n",
    "            TM_parsDict[seqid] += TM_flag*(1+pos2-pos1)"
   ]
  },
  {
   "cell_type": "markdown",
   "id": "fee0c525-c8fc-4912-9dba-2c4dc2b6f6e4",
   "metadata": {},
   "source": [
    "## Step2: Parser the Homologous_peptide.bed"
   ]
  },
  {
   "cell_type": "code",
   "execution_count": 7,
   "id": "223fc787-7c35-4d15-85a8-01f1a46ffee6",
   "metadata": {},
   "outputs": [],
   "source": [
    "## Parser the Homologous_peptide.bed\n",
    "if (homobed_or_blasp == \"homobed\") or (homobed_or_blasp == \"bedblastp\"):\n",
    "    Homobed_parsDict={}\n",
    "    with open(homo_bed,\"r\") as hmf:\n",
    "        for line in hmf.readlines():\n",
    "            if line.startswith(\"sp|\"):\n",
    "                #print(line)\n",
    "                seqid = line.split(\"\\t\")[0].split(\"|\")[1]\n",
    "                if seqid not in Homobed_parsDict.keys():\n",
    "                    length = len(TM_parsDict[seqid])\n",
    "                    Homobed_parsDict[seqid] = [0]*length\n",
    "                pos1 = int(line.split(\"\\t\")[1])-1\n",
    "                pos2 = int(line.split(\"\\t\")[2])-1\n",
    "                homoid = line.split(\"\\t\")[3]\n",
    "                for pos in range(pos1,pos2):\n",
    "                    #print(pos)\n",
    "                    if Homobed_parsDict[seqid][pos] == 0:\n",
    "                        Homobed_parsDict[seqid][pos] = [homoid]\n",
    "                    else:\n",
    "                        Homobed_parsDict[seqid][pos].append(homoid)"
   ]
  },
  {
   "cell_type": "code",
   "execution_count": 8,
   "id": "533727bd-c95a-45d7-af8f-890cafaa40f1",
   "metadata": {},
   "outputs": [
    {
     "name": "stdout",
     "output_type": "stream",
     "text": [
      "['O75388']\n",
      "['P04053', 'P04053-2']\n",
      "['P10242', 'P10242-4', 'P10242-2', 'P10242-7', 'P10242-8', 'P10242-9']\n",
      "['P15814']\n",
      "['P19544-4', 'P19544', 'P19544-7', 'P19544-2', 'P19544-8', 'P19544-3']\n",
      "['P30939']\n",
      "['P40238']\n",
      "['Q00534']\n",
      "['Q01851']\n",
      "['Q5HYN5', 'Q8NHU0', 'P0DMV0', 'P0DMU7', 'P0DMU8', 'P0DMV2', 'P0DMV1', 'Q5DJT8']\n",
      "['Q6ZV50']\n",
      "['Q8IYM0']\n",
      "['Q96A99']\n",
      "['O75388', 'P04053', 'P04053-2', 'P10242', 'P10242-4', 'P10242-2', 'P10242-7', 'P10242-8', 'P10242-9', 'P15814', 'P19544-4', 'P19544', 'P19544-7', 'P19544-2', 'P19544-8', 'P19544-3', 'P30939', 'P40238', 'Q00534', 'Q01851', 'Q5HYN5', 'Q8NHU0', 'P0DMV0', 'P0DMU7', 'P0DMU8', 'P0DMV2', 'P0DMV1', 'Q5DJT8', 'Q6ZV50', 'Q8IYM0', 'Q96A99']\n",
      "O75388\n",
      "P04053\n",
      "P10242\n",
      "P15814\n",
      "P19544\n",
      "P30939\n",
      "P40238\n",
      "Q00534\n",
      "Q01851\n",
      "Q5HYN5\n",
      "Q6ZV50\n",
      "Q8IYM0\n",
      "Q96A99\n"
     ]
    }
   ],
   "source": [
    "## Parser the peptide_netMHC.blastp\n",
    "if (homobed_or_blasp == \"homoblastp\") or (homobed_or_blasp == \"bedblastp\"):\n",
    "    Homoblastp_parsDict={}\n",
    "    headname= [\"qseqid\",\"sseqid\",\"pident\",\"length\",\"mismatch\",\"gapopen\",\"qstart\",\"qend\",\"sstart\",\"send\",\"evalue\",\"bitscore\"]\n",
    "    blastdf = pd.read_csv(homo_blastp,sep=\"\\t\",names=headname)\n",
    "    blastdf[[\"protein\",\"peptide\"]] = blastdf.qseqid.str.split(\":\",expand=True)\n",
    "    #print(blastdf.head(10))\n",
    "    blastdf[\"proteinUnipID\"] = blastdf.protein.str.split(\"_\").str[1]\n",
    "    #print(blastdf.proteinUnipID.unique().tolist())\n",
    "    proteinlist = blastdf.proteinUnipID.unique().tolist()\n",
    "    selfUniproList = []\n",
    "    for proteinid in proteinlist:\n",
    "        # calculate the self \n",
    "        qblastdf = blastdf[blastdf[\"proteinUnipID\"]==proteinid]\n",
    "        homoRefseries = qblastdf.sseqid.value_counts()\n",
    "        # calculate the query number (or bin numbers)\n",
    "        querynum = len(qblastdf.qseqid.unique())\n",
    "        # find those reference id which is the query ploymer \n",
    "        selfUniproID = homoRefseries[homoRefseries>querynum*0.9].index.tolist()\n",
    "        selfUniproList += selfUniproID\n",
    "        print(selfUniproID)\n",
    "    print(selfUniproList)\n",
    " \n",
    "    # remove those aligned lines which reference is it's self\n",
    "    noSelfBlastdf = blastdf[~blastdf.sseqid.isin(selfUniproList)]\n",
    "    # select those aligned lines which pident bigger than cutoff\n",
    "    noSelfHomodf = noSelfBlastdf[noSelfBlastdf.pident > identity]\n",
    "    \n",
    "    noSelfHomodf2 = noSelfHomodf[[\"proteinUnipID\",\"peptide\",\"sseqid\"]]\n",
    "    #print(noSelfHomodf2.head(20))\n",
    "    for proteinid in proteinlist:\n",
    "        print(proteinid)\n",
    "        noSelfHomodf2_p = noSelfHomodf2[noSelfHomodf2[\"proteinUnipID\"]==proteinid]\n",
    "        peptidelist = noSelfHomodf2_p.peptide.unique().tolist()\n",
    "        peptidesseqiddict = {}\n",
    "        for peptide in peptidelist:\n",
    "            sseqidlist = noSelfHomodf2_p[noSelfHomodf2_p[\"peptide\"]==peptide].sseqid.tolist()\n",
    "            peptidesseqiddict[peptide] = sseqidlist\n",
    "            Homoblastp_parsDict[proteinid] = peptidesseqiddict\n",
    "    #print(Homoblastp_parsDict)\n",
    "  "
   ]
  },
  {
   "cell_type": "code",
   "execution_count": 9,
   "id": "ec25b4e3-6e3f-4b31-8567-4b5b42df6e0c",
   "metadata": {},
   "outputs": [
    {
     "name": "stdout",
     "output_type": "stream",
     "text": [
      "{'AALAGGFVQGA': ['Q96A99-2'], 'AALAGGFVQG': ['Q96A99-2'], 'AALEGRLPVA': ['Q96A99-2'], 'AALEGRLPVAH': ['Q96A99-2', 'P51784'], 'AALGPALVPT': ['Q96A99-2'], 'AALGPALVPTP': ['Q96A99-2'], 'AASEHRGPP': ['Q96A99-2'], 'AASEHRGPPQ': ['Q96A99-2'], 'AASEHRGPPQD': ['Q96A99-2'], 'AEESQAVAQAV': ['Q96A99-2'], 'AFRELPLQL': ['Q96A99-2'], 'AFRELPLQLL': ['Q96A99-2'], 'AFRELPLQLLL': ['Q96A99-2'], 'AFVGSMSGLA': ['Q96A99-2'], 'AFVGSMSGL': ['Q96A99-2'], 'AFVGSMSGLAI': ['Q96A99-2'], 'AGGFVQGAN': ['Q96A99-2'], 'AGGFVQGANC': ['Q96A99-2'], 'AGGFVQGANCT': ['Q96A99-2'], 'AHKAQRDALQ': ['Q96A99-2'], 'AHKAQRDALQD': ['Q96A99-2'], 'AHPGTAALG': ['Q96A99-2'], 'AHPGTAALGPA': ['Q96A99-2'], 'AHPGTAALGP': ['Q96A99-2'], 'AIGKEFPTGA': ['Q96A99-2'], 'AIGKEFPTGAI': ['Q96A99-2'], 'AIGKEFPTG': ['Q96A99-2'], 'AILTLANAALA': ['Q96A99-2'], 'AILTLANAAL': ['Q96A99-2'], 'AIWDRALV': ['Q96A99-2'], 'AIWDRALVP': ['Q96A99-2'], 'AIWDRALVPG': ['Q96A99-2', 'Q15818'], 'AIWDRALVPGE': ['Q96A99-2', 'Q15818', 'Q6QNK2-4', 'Q6QNK2'], 'ALAGGFVQGA': ['Q96A99-2'], 'ALAGGFVQGAN': ['Q96A99-2'], 'ALDLTLGERS': ['Q96A99-2'], 'ALDLTLGERSQ': ['Q96A99-2'], 'ALEGRLPVAH': ['Q96A99-2', 'P51784'], 'ALEGRLPVAHP': ['Q96A99-2', 'P51784'], 'ALGPALVPTP': ['Q96A99-2'], 'ALGPALVPTPT': ['Q96A99-2'], 'ALQDSLARLE': ['Q96A99-2'], 'ALQDSLARLEG': ['Q96A99-2'], 'ALRALSFCS': ['Q96A99-2'], 'ALRALSFCSW': ['Q96A99-2'], 'ALRALSFCSWV': ['Q96A99-2'], 'ALSFCSWV': ['Q96A99-2'], 'ALSFCSWVR': ['Q96A99-2'], 'ALSFCSWVRTA': ['Q96A99-2'], 'ALSFCSWVRT': ['Q96A99-2'], 'ALVPGEVANLA': ['Q96A99-2'], 'ALVPGEVANL': ['Q96A99-2'], 'ALVPTPTQP': ['Q96A99-2'], 'ALVPTPTQPE': ['Q96A99-2'], 'ALVPTPTQPEE': ['Q96A99-2'], 'ANAALAGGFV': ['Q96A99-2'], 'ANAALAGGFVQ': ['Q96A99-2'], 'ANCTCLER': ['Q96A99-2'], 'ANCTCLERC': ['Q96A99-2'], 'ANCTCLERCP': ['Q96A99-2'], 'ANLAIGKEF': ['Q96A99-2'], 'ANLAIGKEFP': ['Q96A99-2'], 'ANLAIGKEFPT': ['Q96A99-2'], 'APKDPRQQA': ['Q96A99-2'], 'APKDPRQQAW': ['Q96A99-2'], 'APKDPRQQAWS': ['Q96A99-2'], 'APLQGRREP': ['Q96A99-2'], 'APLQGRREPPA': ['Q96A99-2'], 'APLQGRREPP': ['Q96A99-2'], 'AQAVNRSQAS': ['Q96A99-2'], 'AQAVNRSQASV': ['Q96A99-2'], 'AQLKAWVRK': ['Q96A99-2'], 'AQLKAWVRKL': ['Q96A99-2'], 'AQLKAWVRKLQ': ['Q96A99-2'], 'AQRDALQDSLA': ['Q96A99-2'], 'AQRDALQDSL': ['Q96A99-2'], 'ARERKAHKAQ': ['Q96A99-2'], 'ARERKAHKAQR': ['Q96A99-2'], 'ARLAALEGRLP': ['Q96A99-2'], 'ARLEGLVHS': ['Q96A99-2'], 'ARLEGLVHSQ': ['Q96A99-2'], 'ARLEGLVHSQG': ['Q96A99-2'], 'ASEHRGPPQ': ['Q96A99-2'], 'ASEHRGPPQD': ['Q96A99-2'], 'ASEHRGPPQDS': ['Q96A99-2'], 'ASGRLGTLLS': ['Q96A99-2'], 'ASGRLGTLLSY': ['Q96A99-2'], 'ASGSHRVLSG': ['Q96A99-2'], 'ASGSHRVLSGT': ['Q96A99-2'], 'ASNYNVSY': ['Q96A99-2'], 'ASNYNVSYN': ['Q96A99-2'], 'ASNYNVSYNV': ['Q96A99-2'], 'ASNYNVSYNVD': ['Q96A99-2'], 'ASTRNVVFL': ['Q96A99-2'], 'ASTRNVVFLS': ['Q96A99-2'], 'ASTRNVVFLSP': ['Q96A99-2'], 'ASVQGELAQL': ['Q96A99-2'], 'ASVQGELAQLK': ['Q96A99-2'], 'ATEDNDNK': ['Q96A99-2'], 'ATEDNDNKL': ['Q96A99-2'], 'ATEDNDNKLV': ['Q96A99-2'], 'ATEDNDNKLVL': ['Q96A99-2'], 'ATGSRFREG': ['Q96A99-2'], 'ATGSRFREGY': ['Q96A99-2'], 'ATGSRFREGYE': ['Q96A99-2'], 'AVAQAVNRSQA': ['Q96A99-2'], 'AVAQAVNRSQ': ['Q96A99-2'], 'AVNRSQASVQ': ['Q96A99-2'], 'AVNRSQASVQG': ['Q96A99-2'], 'AWSPQVPG': ['Q96A99-2'], 'AWSPQVPGE': ['Q96A99-2'], 'AWSPQVPGEI': ['Q96A99-2'], 'AWSPQVPGEIC': ['Q96A99-2'], 'AWVRKLQRR': ['Q96A99-2'], 'AWVRKLQRRG': ['Q96A99-2'], 'AWVRKLQRRGR': ['Q96A99-2'], 'CGVGPTLV': ['Q96A99-2'], 'CGVGPTLVF': ['Q96A99-2'], 'CGVGPTLVFP': ['Q96A99-2'], 'CGVGPTLVFPN': ['Q96A99-2'], 'CSWVRTASG': ['Q96A99-2'], 'CSWVRTASGR': ['Q96A99-2'], 'CSWVRTASGRL': ['Q96A99-2'], 'CTCLERCP': ['Q96A99-2'], 'CVIWTSTQ': ['Q96A99-2'], 'CVIWTSTQG': ['Q96A99-2'], 'CVIWTSTQGR': ['Q96A99-2'], 'CVIWTSTQGRY': ['Q96A99-2'], 'DALQDSLARL': ['Q96A99-2'], 'DALQDSLARLE': ['Q96A99-2'], 'DGQWHHIC': ['Q96A99-2', 'Q15818', 'P47972', 'Q7Z7M1', 'O95502', 'Q9NYQ6', 'Q8IZQ1', 'Q8IZQ1-2', 'Q8IZC6', 'Q8IZC6-3'], 'DGQWHHICV': ['Q96A99-2', 'Q15818', 'P47972', 'Q7Z7M1', 'O95502', 'Q6ZS81-5', 'Q6ZS81', 'Q6ZS81-4', 'Q4LDE5-4', 'Q4LDE5', 'Q16787-1', 'Q16787-4', 'Q8IZQ1', 'Q8IZQ1-2'], 'DGQWHHICVI': ['Q96A99-2', 'Q15818', 'P47972', 'Q7Z7M1', 'O95502', 'Q6ZS81', 'Q6ZS81-4', 'Q6ZS81-5', 'Q4LDE5-4', 'Q4LDE5', 'Q8NEZ4-3', 'Q8NEZ4-2', 'Q8NEZ4', 'Q16363', 'Q16363-2', 'Q96M86', 'Q16787-1', 'Q16787-4'], 'DGQWHHICVIW': ['Q96A99-2', 'Q15818', 'P47972', 'Q8IZF6', 'Q8IZF6-2', 'Q96M86', 'Q96M86-4', 'Q6ZS81-5', 'Q96M86-5', 'Q6ZS81', 'Q6ZS81-4', 'Q8NEZ4-3', 'Q8NEZ4-2', 'Q8NEZ4', 'Q16363', 'Q16363-2', 'Q16787', 'Q16787-3', 'Q16787-1', 'Q16787-4'], 'DLTLGERSQ': ['Q96A99-2'], 'DLTLGERSQQ': ['Q96A99-2'], 'DLTLGERSQQR': ['Q96A99-2'], 'DNDNKLVLH': ['Q96A99-2'], 'DNDNKLVLHG': ['Q96A99-2'], 'DNDNKLVLHGR': ['Q96A99-2'], 'DNKLVLHG': ['Q96A99-2'], 'DNKLVLHGRD': ['Q96A99-2'], 'DNKLVLHGR': ['Q96A99-2'], 'DNKLVLHGRDS': ['Q96A99-2'], 'DPAFRELP': ['Q96A99-2'], 'DPAFRELPL': ['Q96A99-2'], 'DPAFRELPLQ': ['Q96A99-2'], 'DPAFRELPLQL': ['Q96A99-2'], 'DPRQQAWS': ['Q96A99-2'], 'DPRQQAWSP': ['Q96A99-2'], 'DPRQQAWSPQ': ['Q96A99-2', 'Q8N4M1', 'Q8N4M1-6'], 'DPRQQAWSPQV': ['Q96A99-2'], 'DRALVPGEVA': ['Q96A99-2'], 'DRALVPGEVAN': ['Q96A99-2'], 'DRALVPGEV': ['Q96A99-2'], 'DRQELRAASE': ['Q96A99-2'], 'DRQELRAASEH': ['Q96A99-2'], 'DRRLVATGSR': ['Q96A99-2'], 'DRRLVATGSRF': ['Q96A99-2'], 'DSLARLEGLV': ['Q96A99-2'], 'DSLARLEGLVH': ['Q96A99-2'], 'DSLLPGSIH': ['Q96A99-2'], 'DSLLPGSIHF': ['Q96A99-2'], 'DSLLPGSIHFV': ['Q96A99-2'], 'DSSAPLQGR': ['Q96A99-2'], 'DSSAPLQGRR': ['Q96A99-2'], 'DSSAPLQGRRE': ['Q96A99-2'], 'DSSEAFVGS': ['Q96A99-2'], 'DSSEAFVGSM': ['Q96A99-2'], 'DSSEAFVGSMS': ['Q96A99-2'], 'DSVGGGFD': ['Q96A99-2'], 'DSVGGGFDS': ['Q96A99-2'], 'DSVGGGFDSS': ['Q96A99-2'], 'DSVGGGFDSSE': ['Q96A99-2'], 'DTRLRALDL': ['Q96A99-2'], 'DTRLRALDLT': ['Q96A99-2'], 'DTRLRALDLTL': ['Q96A99-2'], 'DVRFRSLAE': ['Q96A99-2'], 'DVRFRSLAEE': ['Q96A99-2'], 'DVRFRSLAEES': ['Q96A99-2'], 'EAFVGSMSG': ['Q96A99-2'], 'EAFVGSMSGLA': ['Q96A99-2'], 'EAFVGSMSGL': ['Q96A99-2'], 'EDNDNKLV': ['Q96A99-2'], 'EDNDNKLVL': ['Q96A99-2'], 'EDNDNKLVLH': ['Q96A99-2'], 'EDNDNKLVLHG': ['Q96A99-2'], 'EELGPTSLKL': ['Q96A99-2'], 'EELGPTSLKLQ': ['Q96A99-2'], 'EESQAVAQAVN': ['Q96A99-2'], 'EFPTGAILT': ['Q96A99-2'], 'EFPTGAILTLA': ['Q96A99-2'], 'EFPTGAILTL': ['Q96A99-2'], 'EGLVHSQGA': ['Q96A99-2'], 'EGLVHSQGAR': ['Q96A99-2'], 'EGLVHSQGARL': ['Q96A99-2'], 'EGRLPVAHP': ['Q96A99-2'], 'EGRLPVAHPG': ['Q96A99-2'], 'EGRLPVAHPGT': ['Q96A99-2'], 'EGYEIPPG': ['Q96A99-2'], 'EGYEIPPGG': ['Q96A99-2'], 'EGYEIPPGGS': ['Q96A99-2'], 'EGYEIPPGGSL': ['Q96A99-2'], 'EHRGPPQD': ['Q96A99-2'], 'EHRGPPQDS': ['Q96A99-2'], 'EHRGPPQDSSA': ['Q96A99-2'], 'EHRGPPQDSS': ['Q96A99-2'], 'EICGVGPT': ['Q96A99-2'], 'EICGVGPTL': ['Q96A99-2'], 'EICGVGPTLV': ['Q96A99-2'], 'EICGVGPTLVF': ['Q96A99-2'], 'EIPPGGSLV': ['Q96A99-2'], 'EIPPGGSLVL': ['Q96A99-2'], 'EIPPGGSLVLG': ['Q96A99-2'], 'ELAQLKAWV': ['Q96A99-2', 'Q92888-4'], 'ELAQLKAWVR': ['Q96A99-2'], 'ELAQLKAWVRK': ['Q96A99-2'], 'ELGPTSLKLQ': ['Q96A99-2'], 'ELGPTSLKLQR': ['Q96A99-2'], 'ELPLQLLLD': ['Q96A99-2'], 'ELPLQLLLDG': ['Q96A99-2'], 'ELPLQLLLDGQ': ['Q96A99-2'], 'ELRAASEHRG': ['Q96A99-2'], 'ELRAASEHRGP': ['Q96A99-2'], 'EPPASGSHR': ['Q96A99-2'], 'EPPASGSHRV': ['Q96A99-2', 'Q5TBA9'], 'EPPASGSHRVL': ['Q96A99-2'], 'EQDSVGGGFD': ['Q96A99-2', 'Q15818', 'P47972', 'Q7Z7M1', 'P02743'], 'EQDSVGGGFDS': ['Q96A99-2', 'Q15818', 'P47972', 'Q7Z7M1', 'P02743'], 'EQDSVGGGF': ['Q96A99-2', 'Q7Z7M1'], 'EQFRRFQEVTW': ['Q96A99-2'], 'ERKAHKAQRDA': ['Q96A99-2'], 'ERKAHKAQRD': ['Q96A99-2'], 'ERSQQRARER': ['Q96A99-2'], 'ERSQQRARERK': ['Q96A99-2'], 'ESQAVAQAVNR': ['Q96A99-2'], 'EVANLAIGKE': ['Q96A99-2'], 'EVANLAIGKEF': ['Q96A99-2'], 'EVANLAIGK': ['Q96A99-2'], 'EVTWTHLQ': ['Q96A99-2'], 'EVTWTHLQN': ['Q96A99-2'], 'EVTWTHLQNIA': ['Q96A99-2'], 'EVTWTHLQNI': ['Q96A99-2'], 'FCSWVRTA': ['Q96A99-2'], 'FCSWVRTAS': ['Q96A99-2'], 'FCSWVRTASG': ['Q96A99-2'], 'FCSWVRTASGR': ['Q96A99-2'], 'FDSSEAFVG': ['Q96A99-2'], 'FDSSEAFVGS': ['Q96A99-2'], 'FDSSEAFVGSM': ['Q96A99-2'], 'FLSPGFVTA': ['Q96A99-2'], 'FLSPGFVTAL': ['Q96A99-2'], 'FLSPGFVTALR': ['Q96A99-2'], 'FLSPGFVT': ['Q96A99-2'], 'FPNASTRNV': ['Q96A99-2'], 'FPNASTRNVVF': ['Q96A99-2'], 'FPNASTRNVV': ['Q96A99-2'], 'FPTGAILTLA': ['Q96A99-2'], 'FPTGAILTLAN': ['Q96A99-2'], 'FPTGAILTL': ['Q96A99-2'], 'FQEVTWTH': ['Q96A99-2'], 'FQEVTWTHL': ['Q96A99-2'], 'FQEVTWTHLQ': ['Q96A99-2'], 'FQEVTWTHLQN': ['Q96A99-2'], 'FREGYEIP': ['Q96A99-2'], 'FREGYEIPP': ['Q96A99-2'], 'FREGYEIPPG': ['Q96A99-2'], 'FREGYEIPPGG': ['Q96A99-2'], 'FRELPLQLLLD': ['Q96A99-2'], 'FRELPLQLLL': ['Q96A99-2'], 'FRRFQEVT': ['Q96A99-2'], 'FRRFQEVTW': ['Q96A99-2'], 'FRRFQEVTWT': ['Q96A99-2'], 'FRRFQEVTWTH': ['Q96A99-2', 'Q9BZ67', 'Q9BZ67-3', 'Q9BZ67-2'], 'FRSLAEESQA': ['Q96A99-2'], 'FRSLAEESQAV': ['Q96A99-2'], 'FVGSMSGLA': ['Q96A99-2'], 'FVGSMSGLAI': ['Q96A99-2'], 'FVGSMSGLAIW': ['Q96A99-2'], 'FVIGDPAF': ['Q96A99-2'], 'FVIGDPAFRE': ['Q96A99-2'], 'FVIGDPAFREL': ['Q96A99-2'], 'FVIGDPAFR': ['Q96A99-2'], 'FVQGANCTC': ['Q96A99-2'], 'FVQGANCTCLE': ['Q96A99-2'], 'FVQGANCTCL': ['Q96A99-2'], 'FVQGANCT': ['Q96A99-2'], 'FVTALRALSFC': ['Q96A99-2'], 'FVTALRALSF': ['Q96A99-2'], 'GAILTLANAA': ['Q96A99-2'], 'GAILTLANAAL': ['Q96A99-2'], 'GANCTCLE': ['Q96A99-2'], 'GANCTCLERC': ['Q96A99-2'], 'GANCTCLERCP': ['Q96A99-2'], 'GANCTCLER': ['Q96A99-2'], 'GARLAALEGR': ['Q96A99-2'], 'GARLAALEGRL': ['Q96A99-2'], 'GDPAFREL': ['Q96A99-2'], 'GDPAFRELP': ['Q96A99-2'], 'GDPAFRELPL': ['Q96A99-2'], 'GDPAFRELPLQ': ['Q96A99-2'], 'GEICGVGP': ['Q96A99-2'], 'GEICGVGPT': ['Q96A99-2'], 'GEICGVGPTL': ['Q96A99-2'], 'GEICGVGPTLV': ['Q96A99-2'], 'GELAQLKAW': ['Q96A99-2'], 'GELAQLKAWV': ['Q96A99-2', 'Q92888-4', 'Q92888', 'Q92888-2', 'Q92888-3'], 'GELAQLKAWVR': ['Q96A99-2'], 'GERSQQRARE': ['Q96A99-2'], 'GERSQQRARER': ['Q96A99-2'], 'GEVANLAIGKE': ['Q96A99-2'], 'GEVANLAIGK': ['Q96A99-2'], 'GFDSSEAF': ['Q96A99-2'], 'GFDSSEAFV': ['Q96A99-2'], 'GFDSSEAFVG': ['Q96A99-2', 'Q15818'], 'GFDSSEAFVGS': ['Q96A99-2', 'Q15818'], 'GFVQGANC': ['Q96A99-2'], 'GFVQGANCTC': ['Q96A99-2'], 'GFVQGANCTCL': ['Q96A99-2'], 'GFVQGANCT': ['Q96A99-2'], 'GFVTALRALSF': ['Q96A99-2'], 'GFVTALRALS': ['Q96A99-2'], 'GGFDSSEAF': ['Q96A99-2'], 'GGFDSSEAFV': ['Q96A99-2', 'Q15818'], 'GGFDSSEAFVG': ['Q96A99-2', 'Q15818'], 'GGFVQGANC': ['Q96A99-2'], 'GGFVQGANCTC': ['Q96A99-2'], 'GGFVQGANCT': ['Q96A99-2'], 'GGGFDSSEAF': ['Q96A99-2', 'Q15818'], 'GGGFDSSEAFV': ['Q96A99-2', 'Q15818'], 'GGSLVLGQE': ['Q4LDE5'], 'GGSLVLGQEQD': ['Q4LDE5', 'Q96A99-2', 'Q7Z7M1', 'P47972'], 'GGSLVLGQEQ': ['Q4LDE5', 'Q96A99-2'], 'GKEFPTGAI': ['Q96A99-2'], 'GKEFPTGAIL': ['Q96A99-2'], 'GKEFPTGAILT': ['Q96A99-2'], 'GLAIWDRAL': ['Q96A99-2'], 'GLAIWDRALV': ['Q96A99-2'], 'GLAIWDRALVP': ['Q96A99-2'], 'GLVHSQGAR': ['Q96A99-2'], 'GLVHSQGARLA': ['Q96A99-2'], 'GLVHSQGARL': ['Q96A99-2'], 'GPALVPTPT': ['Q96A99-2'], 'GPALVPTPTQ': ['Q96A99-2'], 'GPALVPTPTQP': ['Q96A99-2'], 'GPPQDSSAP': ['Q96A99-2'], 'GPPQDSSAPL': ['Q96A99-2'], 'GPPQDSSAPLQ': ['Q96A99-2'], 'GPTLVFPNA': ['Q96A99-2'], 'GPTLVFPNAS': ['Q96A99-2'], 'GPTLVFPNAST': ['Q96A99-2'], 'GPTLVFPN': ['Q96A99-2'], 'GPTSLKLQRD': ['Q96A99-2'], 'GPTSLKLQRDR': ['Q96A99-2'], 'GPTSLKLQR': ['Q96A99-2'], 'GQEQDSVGGGF': ['Q7Z7M1', 'Q96A99-2', 'Q15818', 'P02743', 'P47972', 'O95502', 'P02741', 'A8MV57'], 'GQEQDSVGGG': ['Q7Z7M1', 'Q96A99-2', 'P02743', 'P02741'], 'GQEQDSVGG': ['P02743', 'P02741', 'Q96A99-2', 'Q7Z7M1'], 'GQWHHICV': ['Q96A99-2', 'Q15818', 'P47972', 'Q6ZS81-5', 'Q6ZS81', 'Q6ZS81-4', 'O95502', 'Q7Z7M1'], 'GQWHHICVI': ['Q96A99-2', 'Q15818', 'P47972', 'Q6ZS81', 'Q6ZS81-5', 'Q6ZS81-4', 'Q8NEZ4-3', 'Q8NEZ4-2', 'Q8NEZ4', 'O95502', 'Q7Z7M1', 'Q96M86'], 'GQWHHICVIW': ['Q96A99-2', 'Q15818', 'P47972', 'O95502', 'Q8IZF6', 'Q8IZF6-2', 'Q96M86', 'Q96M86-4', 'Q6ZS81-5', 'Q6ZS81', 'Q6ZS81-4', 'Q8NEZ4-3', 'Q8NEZ4-2', 'Q8NEZ4'], 'GQWHHICVIWT': ['Q96A99-2', 'Q15818', 'P47972', 'O95502', 'Q8IZF6', 'Q8IZF6-2', 'Q96M86', 'Q96M86-4', 'Q96M86-5', 'Q96MN2-3', 'Q96MN2', 'Q8NEZ4-3', 'Q8NEZ4-2', 'Q8NEZ4', 'Q96MN2-2'], 'GRDSLLPGS': ['Q96A99-2'], 'GRDSLLPGSI': ['Q96A99-2'], 'GRDSLLPGSIH': ['Q96A99-2'], 'GRKVDTRLRA': ['Q96A99-2'], 'GRKVDTRLRAL': ['Q96A99-2'], 'GRLGTLLSYA': ['Q96A99-2'], 'GRLGTLLSYAT': ['Q96A99-2'], 'GRLPVAHPG': ['Q96A99-2'], 'GRLPVAHPGTA': ['Q96A99-2'], 'GRLPVAHPGT': ['Q96A99-2'], 'GRREPPASG': ['Q96A99-2'], 'GRREPPASGS': ['Q96A99-2'], 'GRREPPASGSH': ['Q96A99-2'], 'GRYWLHVD': ['Q96A99-2'], 'GRYWLHVDR': ['Q96A99-2'], 'GRYWLHVDRR': ['Q96A99-2'], 'GRYWLHVDRRL': ['Q96A99-2'], 'GSHRVLSGTA': ['Q96A99-2'], 'GSHRVLSGTAP': ['Q96A99-2'], 'GSHRVLSGT': ['Q96A99-2'], 'GSIHFVIGD': ['Q96A99-2'], 'GSIHFVIGDPA': ['Q96A99-2'], 'GSIHFVIGDP': ['Q96A99-2'], 'GSIHFVIG': ['Q96A99-2'], 'GSLVLGQEQD': ['Q4LDE5', 'Q96A99-2'], 'GSLVLGQEQDS': ['Q96A99-2', 'Q4LDE5', 'Q7Z7M1', 'P02741', 'Q15818'], 'GSLVLGQEQ': ['Q4LDE5'], 'GSMSGLAIWD': ['Q96A99-2'], 'GSMSGLAIWDR': ['Q96A99-2'], 'GSMSGLAIW': ['Q96A99-2'], 'GSRFREGYE': ['Q96A99-2'], 'GSRFREGYEI': ['Q96A99-2'], 'GSRFREGYEIP': ['Q96A99-2'], 'GTAALGPALV': ['Q96A99-2'], 'GTAALGPALVP': ['Q96A99-2'], 'GTAPKDPRQ': ['Q96A99-2'], 'GTAPKDPRQQA': ['Q96A99-2'], 'GTAPKDPRQQ': ['Q96A99-2'], 'GTLLSYATED': ['Q96A99-2'], 'GTLLSYATEDN': ['Q96A99-2'], 'GTLLSYATE': ['Q96A99-2'], 'GVGPTLVFP': ['Q96A99-2'], 'GVGPTLVFPNA': ['Q96A99-2'], 'GVGPTLVFPN': ['Q96A99-2'], 'GYEIPPGG': ['Q96A99-2'], 'GYEIPPGGS': ['Q96A99-2'], 'GYEIPPGGSL': ['Q96A99-2'], 'GYEIPPGGSLV': ['Q96A99-2'], 'HFVIGDPAF': ['Q96A99-2'], 'HFVIGDPAFRE': ['Q96A99-2'], 'HFVIGDPAFR': ['Q96A99-2'], 'HFVIGDPA': ['Q96A99-2'], 'HGRDSLLPG': ['Q96A99-2'], 'HGRDSLLPGS': ['Q96A99-2'], 'HGRDSLLPGSI': ['Q96A99-2'], 'HHICVIWT': ['Q96A99-2', 'Q15818', 'P47972', 'O95502'], 'HHICVIWTS': ['Q96A99-2', 'Q15818', 'P47972', 'O95502'], 'HHICVIWTST': ['Q96A99-2', 'Q15818', 'P47972', 'O95502'], 'HHICVIWTSTQ': ['Q96A99-2', 'Q15818', 'P47972', 'O95502'], 'HICVIWTS': ['Q96A99-2', 'Q15818', 'P47972'], 'HICVIWTST': ['Q96A99-2', 'Q15818', 'P47972'], 'HICVIWTSTQG': ['Q96A99-2'], 'HICVIWTSTQ': ['Q96A99-2', 'P47972'], 'HKAQRDALQD': ['Q96A99-2'], 'HKAQRDALQDS': ['Q96A99-2'], 'HKAQRDALQ': ['Q96A99-2'], 'HLQNIASN': ['Q96A99-2'], 'HLQNIASNY': ['Q96A99-2'], 'HLQNIASNYN': ['Q96A99-2'], 'HLQNIASNYNV': ['Q96A99-2'], 'HPGTAALGPA': ['Q96A99-2'], 'HPGTAALGPAL': ['Q96A99-2'], 'HPGTAALGP': ['Q96A99-2'], 'HRGPPQDS': ['Q96A99-2'], 'HRGPPQDSSA': ['Q96A99-2'], 'HRGPPQDSSAP': ['Q96A99-2'], 'HRGPPQDSS': ['Q96A99-2'], 'HRVLSGTAP': ['Q96A99-2'], 'HRVLSGTAPKD': ['Q96A99-2'], 'HRVLSGTAPK': ['Q96A99-2'], 'HSQGARLAALE': ['Q96A99-2'], 'HSQGARLAAL': ['Q96A99-2'], 'HVDRRLVATG': ['Q96A99-2'], 'HVDRRLVATGS': ['Q96A99-2'], 'HVDRRLVAT': ['Q96A99-2'], 'IASNYNVSY': ['Q96A99-2'], 'IASNYNVSYN': ['Q96A99-2'], 'IASNYNVSYNV': ['Q96A99-2'], 'ICGVGPTL': ['Q96A99-2'], 'ICGVGPTLVF': ['Q96A99-2'], 'ICGVGPTLVFP': ['Q96A99-2'], 'ICGVGPTLV': ['Q96A99-2'], 'ICVIWTST': ['Q96A99-2'], 'ICVIWTSTQG': ['Q96A99-2'], 'ICVIWTSTQGR': ['Q96A99-2'], 'ICVIWTSTQ': ['Q96A99-2'], 'IGDPAFRE': ['Q96A99-2'], 'IGDPAFREL': ['Q96A99-2'], 'IGDPAFRELP': ['Q96A99-2'], 'IGDPAFRELPL': ['Q96A99-2'], 'IGKEFPTGA': ['Q96A99-2'], 'IGKEFPTGAI': ['Q96A99-2'], 'IGKEFPTGAIL': ['Q96A99-2'], 'IGKEFPTG': ['Q96A99-2'], 'IHFVIGDPAF': ['Q96A99-2'], 'IHFVIGDPAFR': ['Q96A99-2'], 'IHFVIGDPA': ['Q96A99-2'], 'IHFVIGDP': ['Q96A99-2'], 'ILTLANAALAG': ['Q96A99-2'], 'ILTLANAALA': ['Q96A99-2'], 'IPPGGSLVLG': ['Q96A99-2'], 'IPPGGSLVLGQ': ['Q96A99-2', 'Q4LDE5'], 'IWDRALVPGE': ['Q96A99-2', 'Q15818', 'Q6QNK2-4', 'Q6QNK2'], 'IWDRALVPGEV': ['Q96A99-2', 'Q15818'], 'IWDRALVPG': ['Q96A99-2', 'Q15818'], 'IWDRALVP': ['Q96A99-2'], 'IWTSTQGRY': ['Q96A99-2'], 'IWTSTQGRYW': ['Q96A99-2'], 'IWTSTQGRYWL': ['Q96A99-2'], 'KAHKAQRDA': ['Q96A99-2'], 'KAHKAQRDAL': ['Q96A99-2'], 'KAHKAQRDALQ': ['Q96A99-2'], 'KAQRDALQD': ['Q96A99-2'], 'KAQRDALQDS': ['Q96A99-2'], 'KAQRDALQDSL': ['Q96A99-2'], 'KAWVRKLQR': ['Q96A99-2'], 'KAWVRKLQRRG': ['Q96A99-2'], 'KAWVRKLQRR': ['Q96A99-2'], 'KDPRQQAW': ['Q96A99-2'], 'KDPRQQAWS': ['Q96A99-2'], 'KDPRQQAWSP': ['Q96A99-2'], 'KDPRQQAWSPQ': ['Q96A99-2', 'Q8N4M1', 'Q8N4M1-6'], 'KEFPTGAIL': ['Q96A99-2'], 'KEFPTGAILT': ['Q96A99-2'], 'KEFPTGAILTL': ['Q96A99-2'], 'KLQRDRQEL': ['Q96A99-2'], 'KLQRDRQELRA': ['Q96A99-2'], 'KLQRDRQELR': ['Q96A99-2'], 'KLQRRGRKVD': ['Q96A99-2'], 'KLQRRGRKVDT': ['Q96A99-2'], 'KLVLHGRD': ['Q96A99-2'], 'KLVLHGRDS': ['Q96A99-2'], 'KLVLHGRDSL': ['Q96A99-2'], 'KLVLHGRDSLL': ['Q96A99-2'], 'KVDTRLRALD': ['Q96A99-2'], 'KVDTRLRALDL': ['Q96A99-2'], 'KVDTRLRAL': ['Q96A99-2'], 'LAALEGRLPVA': ['Q96A99-2'], 'LAALEGRLPV': ['Q96A99-2'], 'LAEESQAVAQA': ['Q96A99-2'], 'LAGGFVQGANC': ['Q96A99-2'], 'LAGGFVQGAN': ['Q96A99-2'], 'LAIGKEFPTGA': ['Q96A99-2'], 'LAIGKEFPTG': ['Q96A99-2'], 'LAIGKEFPT': ['Q96A99-2'], 'LAIWDRALV': ['Q96A99-2'], 'LAIWDRALVPG': ['Q96A99-2', 'Q15818'], 'LAIWDRALVP': ['Q96A99-2'], 'LANAALAGGF': ['Q96A99-2'], 'LANAALAGGFV': ['Q96A99-2'], 'LAQLKAWVRK': ['Q96A99-2'], 'LAQLKAWVRKL': ['Q96A99-2'], 'LAQLKAWVR': ['Q96A99-2'], 'LARLEGLVHS': ['Q96A99-2'], 'LARLEGLVHSQ': ['Q96A99-2'], 'LDGQWHHIC': ['Q96A99-2', 'Q15818', 'P47972', 'Q7Z7M1', 'O95502', 'Q9NYQ6', 'Q8IZC6', 'Q8IZC6-3'], 'LDGQWHHICVI': ['Q96A99-2', 'Q15818', 'P47972', 'Q7Z7M1', 'O95502', 'Q6ZS81-5', 'Q6ZS81', 'Q6ZS81-4', 'Q4LDE5-4', 'Q4LDE5', 'Q8NEZ4-3', 'Q8NEZ4-2', 'Q8NEZ4', 'Q16363', 'Q16363-2', 'Q16787', 'Q16787-1', 'Q16787-4', 'Q96M86', 'Q16787-3'], 'LDGQWHHICV': ['Q96A99-2', 'Q15818', 'P47972', 'Q7Z7M1', 'O95502', 'Q4LDE5-4', 'Q6ZS81-5', 'Q4LDE5', 'Q6ZS81', 'Q6ZS81-4', 'Q16787-1', 'Q16787-4'], 'LDGQWHHI': ['Q96A99-2', 'Q15818', 'Q4LDE5', 'Q4LDE5-4', 'P47972', 'Q9NYQ6', 'Q8IZC6', 'Q8IZC6-3'], 'LDLTLGERSQ': ['Q96A99-2'], 'LDLTLGERSQQ': ['Q96A99-2'], 'LEGLVHSQGA': ['Q96A99-2'], 'LEGLVHSQGAR': ['Q96A99-2'], 'LEGLVHSQG': ['Q96A99-2'], 'LEGRLPVAH': ['Q96A99-2'], 'LEGRLPVAHPG': ['Q96A99-2'], 'LEGRLPVAHP': ['Q96A99-2'], 'LGERSQQRARE': ['Q96A99-2'], 'LGERSQQRAR': ['Q96A99-2'], 'LGPALVPTP': ['Q96A99-2'], 'LGPALVPTPT': ['Q96A99-2'], 'LGPALVPTPTQ': ['Q96A99-2'], 'LGPTSLKLQRD': ['Q96A99-2'], 'LGPTSLKLQR': ['Q96A99-2'], 'LGQEQDSVGGG': ['Q7Z7M1', 'Q96A99-2', 'P02743', 'P02741', 'Q15818', 'P47972', 'A8MV57'], 'LGQEQDSVGG': ['P02743', 'P02741', 'Q96A99-2', 'Q7Z7M1', 'P47972', 'A8MV57'], 'LGQEQDSVG': ['Q96A99-2'], 'LGTLLSYATED': ['Q96A99-2'], 'LGTLLSYATE': ['Q96A99-2'], 'LGTLLSYAT': ['Q96A99-2'], 'LHGRDSLLPG': ['Q96A99-2'], 'LHGRDSLLPGS': ['Q96A99-2', 'P29350-2'], 'LHGRDSLLP': ['Q96A99-2'], 'LHVDRRLVA': ['Q96A99-2'], 'LHVDRRLVATG': ['Q96A99-2'], 'LHVDRRLVAT': ['Q96A99-2'], 'LHVDRRLV': ['Q96A99-2'], 'LKAWVRKLQ': ['Q96A99-2'], 'LKAWVRKLQR': ['Q96A99-2'], 'LKAWVRKLQRR': ['Q96A99-2'], 'LKLQRDRQE': ['Q96A99-2'], 'LKLQRDRQEL': ['Q96A99-2'], 'LKLQRDRQELR': ['Q96A99-2'], 'LLDGQWHHIC': ['Q96A99-2', 'Q15818', 'P47972', 'Q7Z7M1', 'O95502', 'O60449-3', 'O60449-2', 'O60449', 'Q9NYQ6', 'Q4LDE5-4', 'Q9UMN6', 'Q8IZC6'], 'LLDGQWHHICV': ['Q96A99-2', 'Q15818', 'P47972', 'Q7Z7M1', 'Q4LDE5-4', 'Q4LDE5', 'Q6ZS81-5', 'Q6ZS81', 'Q6ZS81-4', 'Q9UMN6'], 'LLDGQWHHI': ['Q96A99-2', 'Q15818', 'Q4LDE5', 'Q4LDE5-4', 'P47972', 'Q9NYQ6', 'Q9UMN6', 'Q8IZC6', 'Q8IZC6-3'], 'LLDGQWHH': ['Q96A99-2'], 'LLLDGQWHHIC': ['Q96A99-2', 'Q15818', 'P47972', 'Q7Z7M1', 'Q9UMN6', 'O95502', 'Q4LDE5-4', 'Q4LDE5', 'Q9NYQ6', 'Q6ZS81-5'], 'LLLDGQWHHI': ['Q96A99-2', 'Q9UMN6', 'Q15818', 'Q4LDE5', 'Q4LDE5-4', 'P47972', 'Q9NYQ6', 'Q8IZC6'], 'LLLDGQWHH': ['Q96A99-2', 'Q8IZQ1', 'Q8IZQ1-2', 'Q9UMN6'], 'LLLDGQWH': ['Q96A99-2'], 'LLPGSIHF': ['Q96A99-2'], 'LLPGSIHFVIG': ['Q96A99-2'], 'LLPGSIHFVI': ['Q96A99-2'], 'LLPGSIHFV': ['Q96A99-2'], 'LLSYATEDND': ['Q96A99-2'], 'LLSYATEDNDN': ['Q96A99-2'], 'LLSYATEDN': ['Q96A99-2'], 'LPGSIHFVIGD': ['Q96A99-2'], 'LPGSIHFVIG': ['Q96A99-2'], 'LPGSIHFVI': ['Q96A99-2'], 'LPGSIHFV': ['Q96A99-2'], 'LPLQLLLDGQ': ['Q96A99-2'], 'LPLQLLLDGQW': ['Q96A99-2', 'O94967-4', 'O94967-3', 'O94967'], 'LPVAHPGTAAL': ['Q96A99-2'], 'LPVAHPGTAA': ['Q96A99-2'], 'LPVAHPGTA': ['Q96A99-2'], 'LQDSLARLEGL': ['Q96A99-2'], 'LQDSLARLEG': ['Q96A99-2'], 'LQGRREPPA': ['Q96A99-2'], 'LQGRREPPASG': ['Q96A99-2'], 'LQGRREPPAS': ['Q96A99-2'], 'LQLLLDGQWHH': ['Q96A99-2', 'Q9UMN6', 'O94967-4', 'O94967-3', 'O94967', 'Q16787', 'Q16787-3', 'Q16787-1', 'Q16787-4'], 'LQLLLDGQWH': ['Q96A99-2', 'O94967-4', 'O94967-3', 'O94967', 'Q16787', 'Q16787-3', 'Q16787-1', 'Q16787-4'], 'LQLLLDGQW': ['O94967-4', 'O94967-3', 'O94967', 'Q96A99-2'], 'LQNIASNYN': ['Q96A99-2'], 'LQNIASNYNV': ['Q96A99-2'], 'LQNIASNYNVS': ['Q96A99-2'], 'LQRDRQELRAA': ['Q96A99-2'], 'LQRDRQELRA': ['Q96A99-2'], 'LQRRGRKVDT': ['Q96A99-2'], 'LQRRGRKVDTR': ['Q96A99-2'], 'LRAASEHRG': ['Q96A99-2'], 'LRAASEHRGP': ['Q96A99-2'], 'LRAASEHRGPP': ['Q96A99-2'], 'LRALDLTLGE': ['Q96A99-2'], 'LRALDLTLGER': ['Q96A99-2'], 'LRALSFCSW': ['Q96A99-2'], 'LRALSFCSWV': ['Q96A99-2'], 'LRALSFCSWVR': ['Q96A99-2'], 'LSFCSWVR': ['Q96A99-2'], 'LSFCSWVRTA': ['Q96A99-2'], 'LSFCSWVRTAS': ['Q96A99-2'], 'LSFCSWVRT': ['Q96A99-2'], 'LSGTAPKDPR': ['Q96A99-2'], 'LSGTAPKDPRQ': ['Q96A99-2'], 'LSPGFVTAL': ['Q96A99-2'], 'LSPGFVTALRA': ['Q96A99-2'], 'LSPGFVTALR': ['Q96A99-2'], 'LSYATEDND': ['Q96A99-2'], 'LSYATEDNDNK': ['Q96A99-2'], 'LSYATEDNDN': ['Q96A99-2'], 'LSYATEDN': ['Q96A99-2'], 'LTLANAALAGG': ['Q96A99-2'], 'LTLGERSQQRA': ['Q96A99-2'], 'LTLGERSQQR': ['Q96A99-2'], 'LVATGSRFREG': ['Q96A99-2'], 'LVATGSRFRE': ['Q96A99-2'], 'LVATGSRFR': ['Q96A99-2'], 'LVFPNASTR': ['Q96A99-2'], 'LVFPNASTRN': ['Q96A99-2'], 'LVFPNASTRNV': ['Q96A99-2'], 'LVHSQGARLAA': ['Q96A99-2'], 'LVHSQGARLA': ['Q96A99-2'], 'LVHSQGARL': ['Q96A99-2'], 'LVLGQEQDS': ['P02743'], 'LVLGQEQDSVG': ['Q96A99-2', 'Q7Z7M1', 'P02743', 'P47972', 'A8MV57', 'P02741', 'Q15818', 'O95502', 'Q4LDE5'], 'LVLGQEQDSV': ['Q96A99-2', 'Q7Z7M1'], 'LVLHGRDSLL': ['Q96A99-2'], 'LVLHGRDSLLP': ['Q96A99-2'], 'LVLHGRDSL': ['Q96A99-2'], 'LVPGEVANLAI': ['Q96A99-2'], 'LVPGEVANLA': ['Q96A99-2'], 'LVPGEVANL': ['Q96A99-2'], 'LVPTPTQPEEL': ['Q96A99-2'], 'LVPTPTQPEE': ['Q96A99-2'], 'LVPTPTQPE': ['Q96A99-2'], 'MSGLAIWD': ['Q96A99-2'], 'MSGLAIWDRAL': ['Q96A99-2'], 'MSGLAIWDRA': ['Q96A99-2'], 'MSGLAIWDR': ['Q96A99-2'], 'NAALAGGFV': ['Q96A99-2'], 'NAALAGGFVQG': ['Q96A99-2'], 'NAALAGGFVQ': ['Q96A99-2'], 'NASTRNVVFL': ['Q96A99-2'], 'NASTRNVVFLS': ['Q96A99-2'], 'NASTRNVVF': ['Q96A99-2'], 'NCTCLERC': ['Q96A99-2'], 'NCTCLERCP': ['Q96A99-2'], 'NDNKLVLHG': ['Q96A99-2'], 'NDNKLVLHGRD': ['Q96A99-2'], 'NDNKLVLHGR': ['Q96A99-2'], 'NDNKLVLH': ['Q96A99-2'], 'NIASNYNV': ['Q96A99-2'], 'NIASNYNVS': ['Q96A99-2'], 'NIASNYNVSY': ['Q96A99-2'], 'NIASNYNVSYN': ['Q96A99-2'], 'NKLVLHGRD': ['Q96A99-2'], 'NKLVLHGRDSL': ['Q96A99-2'], 'NKLVLHGRDS': ['Q96A99-2'], 'NKLVLHGR': ['Q96A99-2'], 'NLAIGKEFP': ['Q96A99-2'], 'NLAIGKEFPTG': ['Q96A99-2'], 'NLAIGKEFPT': ['Q96A99-2'], 'NRSQASVQGEL': ['Q96A99-2'], 'NRSQASVQGE': ['Q96A99-2'], 'NVDVRFRSLAE': ['Q96A99-2'], 'NVDVRFRSLA': ['Q96A99-2'], 'NVDVRFRSL': ['Q96A99-2'], 'NVDVRFRS': ['Q96A99-2'], 'NVSYNVDVRF': ['Q96A99-2'], 'NVSYNVDVRFR': ['Q96A99-2'], 'NVSYNVDVR': ['Q96A99-2'], 'NVVFLSPGF': ['Q96A99-2'], 'NVVFLSPGFV': ['Q96A99-2'], 'NVVFLSPGFVT': ['Q96A99-2'], 'NYNVSYNVD': ['Q96A99-2'], 'NYNVSYNVDV': ['Q96A99-2'], 'NYNVSYNVDVR': ['Q96A99-2'], 'NYNVSYNV': ['Q96A99-2'], 'PAFRELPLQLL': ['Q96A99-2'], 'PAFRELPLQL': ['Q96A99-2'], 'PAFRELPLQ': ['Q96A99-2'], 'PALVPTPTQ': ['Q96A99-2'], 'PALVPTPTQPE': ['Q96A99-2'], 'PALVPTPTQP': ['Q96A99-2'], 'PASGSHRVL': ['Q96A99-2'], 'PASGSHRVLSG': ['Q96A99-2'], 'PASGSHRVLS': ['Q96A99-2'], 'PEELGPTSLKL': ['Q96A99-2'], 'PEELGPTSLK': ['Q96A99-2'], 'PEELGPTSL': ['Q96A99-2'], 'PGEICGVG': ['Q96A99-2'], 'PGEICGVGP': ['Q96A99-2'], 'PGEICGVGPTL': ['Q96A99-2'], 'PGEICGVGPT': ['Q96A99-2'], 'PGEVANLAIGK': ['Q96A99-2'], 'PGEVANLAIG': ['Q96A99-2'], 'PGEVANLAI': ['Q96A99-2'], 'PGFVTALRAL': ['Q96A99-2'], 'PGFVTALRALS': ['Q96A99-2'], 'PGFVTALRA': ['Q96A99-2'], 'PGGSLVLGQE': ['Q96A99-2'], 'PGGSLVLGQEQ': ['Q96A99-2', 'P47972', 'Q4LDE5'], 'PGSIHFVIGD': ['Q96A99-2'], 'PGSIHFVIGDP': ['Q96A99-2'], 'PGSIHFVIG': ['Q96A99-2'], 'PGSIHFVI': ['Q96A99-2'], 'PGTAALGPAL': ['Q96A99-2'], 'PGTAALGPALV': ['Q96A99-2'], 'PKDPRQQAW': ['Q96A99-2'], 'PKDPRQQAWS': ['Q96A99-2'], 'PKDPRQQAWSP': ['Q96A99-2'], 'PLQGRREPPA': ['Q96A99-2'], 'PLQGRREPPAS': ['Q96A99-2'], 'PLQGRREPP': ['Q96A99-2'], 'PLQLLLDGQWH': ['Q96A99-2', 'Q16787', 'Q16787-3', 'Q16787-4', 'Q16787-1', 'O94967-4', 'O94967-3', 'O94967'], 'PLQLLLDGQW': ['Q96A99-2', 'O94967-4', 'O94967-3', 'O94967'], 'PNASTRNVVFL': ['Q96A99-2'], 'PNASTRNVVF': ['Q96A99-2'], 'PNASTRNVV': ['Q96A99-2'], 'PPASGSHR': ['Q5TBA9'], 'PPASGSHRVL': ['Q96A99-2', 'Q5TBA9'], 'PPASGSHRVLS': ['Q96A99-2'], 'PPASGSHRV': ['Q96A99-2', 'Q5TBA9'], 'PPGGSLVLGQE': ['Q96A99-2'], 'PPGGSLVLGQ': ['Q96A99-2'], 'PPQDSSAPL': ['Q96A99-2'], 'PPQDSSAPLQG': ['Q96A99-2'], 'PPQDSSAPLQ': ['Q96A99-2'], 'PQDSSAPLQG': ['Q96A99-2'], 'PQDSSAPLQGR': ['Q96A99-2'], 'PQDSSAPLQ': ['Q96A99-2'], 'PQVPGEICG': ['Q96A99-2'], 'PQVPGEICGVG': ['Q96A99-2'], 'PQVPGEICGV': ['Q96A99-2'], 'PQVPGEIC': ['Q96A99-2'], 'PRQQAWSP': ['Q96A99-2'], 'PRQQAWSPQ': ['Q96A99-2', 'Q8N4M1', 'Q8N4M1-6'], 'PRQQAWSPQVP': ['Q96A99-2'], 'PRQQAWSPQV': ['Q96A99-2'], 'PTGAILTLANA': ['Q96A99-2'], 'PTGAILTLAN': ['Q96A99-2'], 'PTLVFPNA': ['Q96A99-2'], 'PTLVFPNAS': ['Q96A99-2'], 'PTLVFPNAST': ['Q96A99-2'], 'PTLVFPNASTR': ['Q96A99-2'], 'PTPTQPEELGP': ['Q96A99-2'], 'PTPTQPEELG': ['Q96A99-2'], 'PTPTQPEEL': ['Q96A99-2'], 'PTQPEELGP': ['Q96A99-2'], 'PTQPEELGPT': ['Q96A99-2'], 'PTQPEELGPTS': ['Q96A99-2', 'Q7Z6Z7-2', 'Q7Z6Z7', 'Q7Z6Z7-3'], 'PTSLKLQRD': ['Q96A99-2'], 'PTSLKLQRDR': ['Q96A99-2'], 'PTSLKLQRDRQ': ['Q96A99-2'], 'PVAHPGTAALG': ['Q96A99-2', 'Q12846'], 'PVAHPGTAAL': ['Q96A99-2'], 'PVAHPGTAA': ['Q96A99-2'], 'QASVQGELAQL': ['Q96A99-2'], 'QASVQGELAQ': ['Q96A99-2'], 'QAVAQAVNRS': ['Q96A99-2'], 'QAVAQAVNRSQ': ['Q96A99-2'], 'QAVNRSQASV': ['Q96A99-2'], 'QAVNRSQASVQ': ['Q96A99-2'], 'QAWSPQVPGEI': ['Q96A99-2'], 'QAWSPQVPGE': ['Q96A99-2'], 'QAWSPQVPG': ['Q96A99-2'], 'QDSLARLEGL': ['Q96A99-2'], 'QDSLARLEGLV': ['Q96A99-2'], 'QDSSAPLQG': ['Q96A99-2'], 'QDSSAPLQGR': ['Q96A99-2'], 'QDSSAPLQGRR': ['Q96A99-2'], 'QDSVGGGFD': ['Q96A99-2', 'Q15818'], 'QDSVGGGFDS': ['Q96A99-2', 'Q15818'], 'QDSVGGGFDSS': ['Q96A99-2'], 'QELRAASEHRG': ['Q96A99-2'], 'QELRAASEHR': ['Q96A99-2'], 'QEQDSVGGGFD': ['Q96A99-2', 'Q15818', 'Q7Z7M1', 'P02743', 'P47972', 'A8MV57', 'O95502', 'P02741'], 'QEQDSVGGGF': ['Q96A99-2', 'Q7Z7M1', 'Q15818', 'P02743'], 'QEQDSVGGG': ['Q96A99-2', 'Q7Z7M1'], 'QEVTWTHL': ['Q96A99-2'], 'QEVTWTHLQNI': ['Q96A99-2'], 'QEVTWTHLQN': ['Q96A99-2'], 'QEVTWTHLQ': ['Q96A99-2'], 'QFRRFQEVTW': ['Q96A99-2'], 'QFRRFQEVTWT': ['Q96A99-2'], 'QGANCTCLE': ['Q96A99-2'], 'QGANCTCLERC': ['Q96A99-2'], 'QGANCTCLER': ['Q96A99-2'], 'QGANCTCL': ['Q96A99-2'], 'QGARLAALEG': ['Q96A99-2'], 'QGARLAALEGR': ['Q96A99-2'], 'QGELAQLKAW': ['Q96A99-2'], 'QGELAQLKAWV': ['Q96A99-2', 'Q92888-4'], 'QGRREPPASG': ['Q96A99-2'], 'QGRREPPASGS': ['Q96A99-2'], 'QGRREPPAS': ['Q96A99-2'], 'QGRYWLHVD': ['Q96A99-2'], 'QGRYWLHVDR': ['Q96A99-2'], 'QGRYWLHVDRR': ['Q96A99-2'], 'QGRYWLHV': ['Q96A99-2'], 'QLKAWVRKL': ['Q96A99-2'], 'QLKAWVRKLQ': ['Q96A99-2'], 'QLKAWVRKLQR': ['Q96A99-2'], 'QLLLDGQWHHI': ['Q96A99-2', 'Q6ZS81', 'Q9UMN6', 'Q6ZS81-4', 'Q6ZS81-5', 'Q4LDE5', 'Q4LDE5-4', 'Q15818', 'Q9NYQ6', 'P47972'], 'QLLLDGQWHH': ['Q96A99-2', 'Q9UMN6', 'O94967-4', 'O94967-3', 'O94967', 'Q16787', 'Q16787-3', 'Q16787-1', 'Q16787-4'], 'QLLLDGQWH': ['Q96A99-2', 'O94967-4', 'O94967-3', 'O94967', 'Q16787', 'Q16787-3', 'Q16787-1', 'Q16787-4'], 'QLLLDGQW': ['O94967-4', 'O94967-3', 'O94967'], 'QNIASNYN': ['Q96A99-2'], 'QNIASNYNV': ['Q96A99-2'], 'QNIASNYNVS': ['Q96A99-2'], 'QNIASNYNVSY': ['Q96A99-2'], 'QPEELGPTSLK': ['Q96A99-2'], 'QPEELGPTSL': ['Q96A99-2'], 'QPEELGPTS': ['Q96A99-2'], 'QQAWSPQVPGE': ['Q96A99-2'], 'QQAWSPQVPG': ['Q96A99-2'], 'QQAWSPQVP': ['Q96A99-2'], 'QQRARERKAHK': ['Q96A99-2'], 'QQRARERKAH': ['Q96A99-2'], 'QRARERKAHKA': ['Q96A99-2'], 'QRARERKAHK': ['Q96A99-2'], 'QRDALQDSLA': ['Q96A99-2'], 'QRDALQDSLAR': ['Q96A99-2'], 'QRDRQELRAA': ['Q96A99-2'], 'QRDRQELRAAS': ['Q96A99-2'], 'QRRGRKVDTRL': ['Q96A99-2'], 'QRRGRKVDTR': ['Q96A99-2'], 'QVPGEICG': ['Q96A99-2'], 'QVPGEICGVGP': ['Q96A99-2'], 'QVPGEICGVG': ['Q96A99-2'], 'QVPGEICGV': ['Q96A99-2'], 'QWHHICVI': ['Q96A99-2', 'Q15818', 'P47972', 'Q8NEZ4-3', 'Q8NEZ4-2', 'Q8NEZ4', 'O95502', 'Q8IZF6', 'Q8IZF6-2'], 'QWHHICVIW': ['Q96A99-2', 'Q15818', 'P47972', 'O95502', 'Q8IZF6', 'Q8IZF6-2', 'Q96M86', 'Q8NEZ4-3', 'Q8NEZ4-2', 'Q8NEZ4', 'Q96M86-4'], 'QWHHICVIWT': ['Q96A99-2', 'Q15818', 'P47972', 'O95502', 'Q8IZF6', 'Q8IZF6-2', 'Q96M86', 'Q8NEZ4-3', 'Q8NEZ4-2', 'Q8NEZ4', 'Q96MN2-3', 'Q96MN2', 'Q96M86-4', 'Q96MN2-2'], 'QWHHICVIWTS': ['Q96A99-2', 'Q15818', 'P47972', 'O95502', 'Q8IZF6', 'Q8IZF6-2', 'Q96M86', 'Q8NEZ4-3', 'Q8NEZ4-2', 'Q8NEZ4', 'Q96M86-4'], 'RAASEHRGPPQ': ['Q96A99-2'], 'RAASEHRGPP': ['Q96A99-2'], 'RAASEHRGP': ['Q96A99-2'], 'RALDLTLGER': ['Q96A99-2'], 'RALDLTLGERS': ['Q96A99-2'], 'RALSFCSW': ['Q96A99-2'], 'RALSFCSWV': ['Q96A99-2'], 'RALSFCSWVR': ['Q96A99-2'], 'RALSFCSWVRT': ['Q96A99-2'], 'RALVPGEVANL': ['Q96A99-2'], 'RALVPGEVAN': ['Q96A99-2'], 'RARERKAHKAQ': ['Q96A99-2'], 'RARERKAHKA': ['Q96A99-2'], 'RDALQDSLARL': ['Q96A99-2'], 'RDALQDSLAR': ['Q96A99-2'], 'RDRQELRAASE': ['Q96A99-2'], 'RDRQELRAAS': ['Q96A99-2'], 'RDSLLPGSIHF': ['Q96A99-2'], 'RDSLLPGSIH': ['Q96A99-2'], 'RDSLLPGSI': ['Q96A99-2'], 'REGYEIPPGG': ['Q96A99-2'], 'REGYEIPPGGS': ['Q96A99-2'], 'REGYEIPPG': ['Q96A99-2'], 'REGYEIPP': ['Q96A99-2'], 'RELPLQLLLDG': ['Q96A99-2'], 'RELPLQLLLD': ['Q96A99-2'], 'REPPASGSH': ['Q96A99-2'], 'REPPASGSHR': ['Q96A99-2', 'Q5TBA9'], 'REPPASGSHRV': ['Q96A99-2', 'Q5TBA9'], 'RERKAHKAQRD': ['Q96A99-2'], 'RERKAHKAQR': ['Q96A99-2'], 'RFQEVTWTHLQ': ['Q96A99-2', 'Q9BZ67', 'Q9BZ67-3', 'Q9BZ67-2'], 'RFQEVTWTHL': ['Q96A99-2', 'Q9BZ67', 'Q9BZ67-3', 'Q9BZ67-2'], 'RFQEVTWTH': ['Q96A99-2', 'Q9BZ67', 'Q9BZ67-3', 'Q9BZ67-2'], 'RFQEVTWT': ['Q96A99-2'], 'RFREGYEIPPG': ['Q96A99-2'], 'RFREGYEIPP': ['Q96A99-2'], 'RFREGYEIP': ['Q96A99-2'], 'RFREGYEI': ['Q96A99-2'], 'RFRSLAEESQA': ['Q96A99-2'], 'RFRSLAEESQ': ['Q96A99-2'], 'RGPPQDSSAPL': ['Q96A99-2'], 'RGPPQDSSAP': ['Q96A99-2'], 'RGPPQDSSA': ['Q96A99-2'], 'RGRKVDTRLRA': ['Q96A99-2'], 'RGRKVDTRLR': ['Q96A99-2'], 'RKAHKAQRDAL': ['Q96A99-2'], 'RKAHKAQRDA': ['Q96A99-2'], 'RKAHKAQRD': ['Q96A99-2'], 'RKLQRRGRKVD': ['Q96A99-2'], 'RKLQRRGRKV': ['Q96A99-2'], 'RKVDTRLRALD': ['Q96A99-2'], 'RKVDTRLRAL': ['Q96A99-2'], 'RLAALEGRLP': ['Q96A99-2'], 'RLAALEGRLPV': ['Q96A99-2'], 'RLEGLVHSQGA': ['Q96A99-2'], 'RLEGLVHSQG': ['Q96A99-2'], 'RLEGLVHSQ': ['Q96A99-2'], 'RLGTLLSYATE': ['Q96A99-2'], 'RLGTLLSYAT': ['Q96A99-2'], 'RLPVAHPGTAA': ['Q96A99-2'], 'RLPVAHPGTA': ['Q96A99-2'], 'RLPVAHPGT': ['Q96A99-2'], 'RLRALDLTLGE': ['Q96A99-2'], 'RLRALDLTLG': ['Q96A99-2'], 'RLVATGSRFRE': ['Q96A99-2'], 'RLVATGSRF': ['Q96A99-2'], 'RLVATGSRFR': ['Q96A99-2'], 'RNVVFLSPGF': ['Q96A99-2'], 'RNVVFLSPGFV': ['Q96A99-2'], 'RNVVFLSPG': ['Q96A99-2'], 'RQELRAASEH': ['Q96A99-2'], 'RQELRAASEHR': ['Q96A99-2'], 'RQQAWSPQVPG': ['Q96A99-2'], 'RQQAWSPQVP': ['Q96A99-2'], 'RQQAWSPQV': ['Q96A99-2'], 'RREPPASGSH': ['Q96A99-2'], 'RREPPASGSHR': ['Q96A99-2', 'Q5TBA9'], 'RREPPASGS': ['Q96A99-2'], 'RRFQEVTW': ['Q96A99-2'], 'RRFQEVTWTHL': ['Q96A99-2', 'Q9BZ67', 'Q9BZ67-3', 'Q9BZ67-2'], 'RRFQEVTWTH': ['Q96A99-2', 'Q9BZ67', 'Q9BZ67-3', 'Q9BZ67-2'], 'RRFQEVTWT': ['Q96A99-2'], 'RRGRKVDTRL': ['Q96A99-2'], 'RRGRKVDTRLR': ['Q96A99-2'], 'RRLVATGSRF': ['Q96A99-2'], 'RRLVATGSRFR': ['Q96A99-2'], 'RSLAEESQAVA': ['Q96A99-2'], 'RSLAEESQAV': ['Q96A99-2'], 'RSQASVQGELA': ['Q96A99-2'], 'RSQASVQGEL': ['Q96A99-2'], 'RSQQRARERKA': ['Q96A99-2'], 'RSQQRARERK': ['Q96A99-2'], 'RTASGRLGTLL': ['Q96A99-2'], 'RTASGRLGTL': ['Q96A99-2'], 'RVLSGTAPKDP': ['Q96A99-2'], 'RVLSGTAPKD': ['Q96A99-2'], 'RVLSGTAPK': ['Q96A99-2'], 'RYWLHVDRRL': ['Q96A99-2'], 'RYWLHVDRRLV': ['Q96A99-2'], 'RYWLHVDRR': ['Q96A99-2'], 'RYWLHVDR': ['Q96A99-2'], 'SAPLQGRREPP': ['Q96A99-2'], 'SAPLQGRREP': ['Q96A99-2'], 'SAPLQGRRE': ['Q96A99-2'], 'SEAFVGSMSGL': ['Q96A99-2'], 'SEAFVGSMSG': ['Q96A99-2'], 'SEAFVGSMS': ['Q96A99-2'], 'SEHRGPPQD': ['Q96A99-2'], 'SEHRGPPQDS': ['Q96A99-2'], 'SEHRGPPQDSS': ['Q96A99-2'], 'SEHRGPPQ': ['Q96A99-2'], 'SFCSWVRTA': ['Q96A99-2'], 'SFCSWVRTASG': ['Q96A99-2'], 'SFCSWVRTAS': ['Q96A99-2'], 'SFCSWVRT': ['Q96A99-2'], 'SGLAIWDRAL': ['Q96A99-2'], 'SGLAIWDRALV': ['Q96A99-2'], 'SGLAIWDRA': ['Q96A99-2'], 'SGRLGTLLSYA': ['Q96A99-2'], 'SGRLGTLLSY': ['Q96A99-2'], 'SGSHRVLSGTA': ['Q96A99-2'], 'SGSHRVLSGT': ['Q96A99-2'], 'SGTAPKDPRQQ': ['Q96A99-2'], 'SGTAPKDPRQ': ['Q96A99-2'], 'SGTAPKDPR': ['Q96A99-2'], 'SHRVLSGTAPK': ['Q96A99-2'], 'SHRVLSGTAP': ['Q96A99-2'], 'SIHFVIGDPAF': ['Q96A99-2'], 'SIHFVIGDPA': ['Q96A99-2'], 'SIHFVIGDP': ['Q96A99-2'], 'SIHFVIGD': ['Q96A99-2'], 'SLAEESQAVAQ': ['Q96A99-2'], 'SLARLEGLVH': ['Q96A99-2'], 'SLARLEGLVHS': ['Q96A99-2'], 'SLKLQRDRQEL': ['Q96A99-2'], 'SLKLQRDRQE': ['Q96A99-2'], 'SLLPGSIHF': ['Q96A99-2'], 'SLLPGSIHFVI': ['Q96A99-2'], 'SLLPGSIHFV': ['Q96A99-2'], 'SLVLGQEQD': ['Q4LDE5'], 'SLVLGQEQDS': ['Q96A99-2', 'P02741', 'Q4LDE5'], 'SLVLGQEQDSV': ['Q96A99-2', 'P02741'], 'SMSGLAIWDRA': ['Q96A99-2'], 'SMSGLAIWDR': ['Q96A99-2'], 'SMSGLAIWD': ['Q96A99-2'], 'SNYNVSYN': ['Q96A99-2'], 'SNYNVSYNVD': ['Q96A99-2'], 'SNYNVSYNVDV': ['Q96A99-2'], 'SNYNVSYNV': ['Q96A99-2'], 'SPGFVTALRAL': ['Q96A99-2'], 'SPGFVTALRA': ['Q96A99-2'], 'SPGFVTALR': ['Q96A99-2'], 'SPQVPGEICG': ['Q96A99-2'], 'SPQVPGEICGV': ['Q96A99-2'], 'SPQVPGEIC': ['Q96A99-2'], 'SQASVQGELAQ': ['Q96A99-2'], 'SQASVQGELA': ['Q96A99-2'], 'SQAVAQAVNR': ['Q96A99-2'], 'SQAVAQAVNRS': ['Q96A99-2'], 'SQGARLAALEG': ['Q96A99-2'], 'SQGARLAALE': ['Q96A99-2'], 'SQQRARERKAH': ['Q96A99-2'], 'SQQRARERKA': ['Q96A99-2'], 'SRFREGYEIPP': ['Q96A99-2'], 'SRFREGYEIP': ['Q96A99-2'], 'SRFREGYEI': ['Q96A99-2'], 'SRFREGYE': ['Q96A99-2'], 'SSAPLQGRREP': ['Q96A99-2'], 'SSAPLQGRRE': ['Q96A99-2'], 'SSEAFVGSMSG': ['Q96A99-2'], 'SSEAFVGSM': ['Q96A99-2'], 'SSEAFVGSMS': ['Q96A99-2'], 'STQGRYWLH': ['Q96A99-2'], 'STQGRYWLHVD': ['Q96A99-2'], 'STQGRYWLHV': ['Q96A99-2'], 'STQGRYWL': ['Q96A99-2'], 'STRNVVFLSPG': ['Q96A99-2'], 'STRNVVFLSP': ['Q96A99-2'], 'STRNVVFLS': ['Q96A99-2'], 'SVGGGFDSSEA': ['Q96A99-2'], 'SVGGGFDSSE': ['Q96A99-2'], 'SVQGELAQLKA': ['Q96A99-2'], 'SVQGELAQLK': ['Q96A99-2'], 'SWVRTASGRLG': ['Q96A99-2'], 'SWVRTASGRL': ['Q96A99-2'], 'SWVRTASGR': ['Q96A99-2'], 'SYATEDNDNKL': ['Q96A99-2'], 'SYATEDNDNK': ['Q96A99-2'], 'SYATEDNDN': ['Q96A99-2'], 'SYATEDND': ['Q96A99-2'], 'SYNVDVRFRSL': ['Q96A99-2'], 'SYNVDVRFRS': ['Q96A99-2'], 'SYNVDVRFR': ['Q96A99-2'], 'SYNVDVRF': ['Q96A99-2'], 'TAALGPALVP': ['Q96A99-2'], 'TAALGPALVPT': ['Q96A99-2'], 'TALRALSFCS': ['Q96A99-2'], 'TALRALSFCSW': ['Q96A99-2'], 'TALRALSFC': ['Q96A99-2'], 'TAPKDPRQQA': ['Q96A99-2'], 'TAPKDPRQQAW': ['Q96A99-2'], 'TASGRLGTLLS': ['Q96A99-2'], 'TASGRLGTLL': ['Q96A99-2'], 'TEDNDNKL': ['Q96A99-2'], 'TEDNDNKLVLH': ['Q96A99-2'], 'TEDNDNKLVL': ['Q96A99-2'], 'TEDNDNKLV': ['Q96A99-2'], 'TGAILTLANAA': ['Q96A99-2'], 'TGAILTLANA': ['Q96A99-2'], 'TGAILTLAN': ['Q96A99-2'], 'TGSRFREGYEI': ['Q96A99-2'], 'TGSRFREGYE': ['Q96A99-2'], 'TGSRFREGY': ['Q96A99-2'], 'THLQNIASN': ['Q96A99-2'], 'THLQNIASNYN': ['Q96A99-2'], 'THLQNIASNY': ['Q96A99-2'], 'TLANAALAGGF': ['Q96A99-2'], 'TLGERSQQRAR': ['Q96A99-2'], 'TLGERSQQRA': ['Q96A99-2'], 'TLLSYATEDND': ['Q96A99-2'], 'TLLSYATEDN': ['Q96A99-2'], 'TLLSYATED': ['Q96A99-2'], 'TLVFPNASTRN': ['Q96A99-2'], 'TLVFPNASTR': ['Q96A99-2'], 'TLVFPNAST': ['Q96A99-2'], 'TPTQPEELGP': ['Q96A99-2'], 'TPTQPEELGPT': ['Q96A99-2'], 'TPTQPEELG': ['Q96A99-2'], 'TQGRYWLH': ['Q96A99-2'], 'TQGRYWLHVDR': ['Q96A99-2'], 'TQGRYWLHVD': ['Q96A99-2'], 'TQGRYWLHV': ['Q96A99-2'], 'TQPEELGPTSL': ['Q96A99-2'], 'TQPEELGPTS': ['Q96A99-2'], 'TQPEELGPT': ['Q96A99-2'], 'TRLRALDLTLG': ['Q96A99-2'], 'TRLRALDLTL': ['Q96A99-2'], 'TRNVVFLSPGF': ['Q96A99-2'], 'TRNVVFLSPG': ['Q96A99-2'], 'TRNVVFLSP': ['Q96A99-2'], 'TSLKLQRDRQE': ['Q96A99-2'], 'TSLKLQRDRQ': ['Q96A99-2'], 'TSTQGRYWLH': ['Q96A99-2'], 'TSTQGRYWLHV': ['Q96A99-2'], 'TSTQGRYWL': ['Q96A99-2'], 'TSTQGRYW': ['Q96A99-2'], 'TWTHLQNIASN': ['Q96A99-2'], 'TWTHLQNIAS': ['Q96A99-2'], 'TWTHLQNIA': ['Q96A99-2'], 'TWTHLQNI': ['Q96A99-2'], 'VAHPGTAALGP': ['Q96A99-2', 'Q12846'], 'VAHPGTAALG': ['Q96A99-2', 'Q12846'], 'VAHPGTAAL': ['Q96A99-2'], 'VANLAIGKEFP': ['Q96A99-2'], 'VANLAIGKEF': ['Q96A99-2'], 'VANLAIGKE': ['Q96A99-2'], 'VAQAVNRSQAS': ['Q96A99-2'], 'VAQAVNRSQA': ['Q96A99-2'], 'VATGSRFREG': ['Q96A99-2'], 'VATGSRFREGY': ['Q96A99-2'], 'VATGSRFRE': ['Q96A99-2'], 'VDRRLVATGSR': ['Q96A99-2'], 'VDRRLVATGS': ['Q96A99-2'], 'VDTRLRALDLT': ['Q96A99-2'], 'VDTRLRALDL': ['Q96A99-2'], 'VDTRLRALD': ['Q96A99-2'], 'VDVRFRSLAEE': ['Q96A99-2'], 'VDVRFRSLAE': ['Q96A99-2'], 'VDVRFRSLA': ['Q96A99-2'], 'VFLSPGFVTAL': ['Q96A99-2'], 'VFLSPGFVTA': ['Q96A99-2'], 'VFLSPGFVT': ['Q96A99-2'], 'VFLSPGFV': ['Q96A99-2'], 'VFPNASTRN': ['Q96A99-2'], 'VFPNASTRNV': ['Q96A99-2'], 'VFPNASTRNVV': ['Q96A99-2'], 'VGGGFDSSEAF': ['Q96A99-2'], 'VGGGFDSSEA': ['Q96A99-2'], 'VGGGFDSSE': ['Q96A99-2'], 'VGPTLVFPNAS': ['Q96A99-2'], 'VGPTLVFPNA': ['Q96A99-2'], 'VGPTLVFPN': ['Q96A99-2'], 'VGSMSGLAIWD': ['Q96A99-2'], 'VGSMSGLAIW': ['Q96A99-2'], 'VHSQGARLAAL': ['Q96A99-2'], 'VHSQGARLAA': ['Q96A99-2'], 'VHSQGARLA': ['Q96A99-2'], 'VIGDPAFRELP': ['Q96A99-2'], 'VIGDPAFREL': ['Q96A99-2'], 'VIGDPAFRE': ['Q96A99-2'], 'VIGDPAFR': ['Q96A99-2'], 'VIWTSTQGR': ['Q96A99-2'], 'VIWTSTQGRY': ['Q96A99-2'], 'VIWTSTQGRYW': ['Q96A99-2'], 'VLGQEQDSVGG': ['P02743', 'Q96A99-2', 'Q7Z7M1', 'P02741', 'P47972', 'A8MV57', 'Q15818', 'O95502'], 'VLGQEQDSVG': ['Q96A99-2', 'P02743', 'Q7Z7M1', 'P02741', 'A8MV57', 'P47972'], 'VLHGRDSLLPG': ['Q96A99-2'], 'VLHGRDSLLP': ['Q96A99-2'], 'VLHGRDSLL': ['Q96A99-2'], 'VLSGTAPKDPR': ['Q96A99-2'], 'VLSGTAPKDP': ['Q96A99-2'], 'VNRSQASVQGE': ['Q96A99-2'], 'VNRSQASVQG': ['Q96A99-2'], 'VPGEICGVGPT': ['Q96A99-2'], 'VPGEICGVGP': ['Q96A99-2'], 'VPGEICGVG': ['Q96A99-2'], 'VPGEICGV': ['Q96A99-2'], 'VPGEVANLAIG': ['Q96A99-2'], 'VPGEVANLAI': ['Q96A99-2'], 'VPTPTQPEELG': ['Q96A99-2'], 'VPTPTQPEEL': ['Q96A99-2'], 'VPTPTQPEE': ['Q96A99-2'], 'VQGANCTCLER': ['Q96A99-2'], 'VQGANCTCLE': ['Q96A99-2'], 'VQGANCTCL': ['Q96A99-2'], 'VQGANCTC': ['Q96A99-2'], 'VQGELAQLKA': ['Q96A99-2'], 'VQGELAQLKAW': ['Q96A99-2'], 'VRFRSLAEESQ': ['Q96A99-2'], 'VRFRSLAEES': ['Q96A99-2'], 'VRKLQRRGRK': ['Q96A99-2'], 'VRKLQRRGRKV': ['Q96A99-2'], 'VRTASGRLGTL': ['Q96A99-2'], 'VRTASGRLGT': ['Q96A99-2'], 'VSYNVDVRFRS': ['Q96A99-2'], 'VSYNVDVRFR': ['Q96A99-2'], 'VSYNVDVRF': ['Q96A99-2'], 'VTALRALSFCS': ['Q96A99-2'], 'VTALRALSFC': ['Q96A99-2'], 'VTWTHLQNIAS': ['Q96A99-2'], 'VTWTHLQNIA': ['Q96A99-2'], 'VTWTHLQNI': ['Q96A99-2'], 'VTWTHLQN': ['Q96A99-2'], 'VVFLSPGFVTA': ['Q96A99-2'], 'VVFLSPGFVT': ['Q96A99-2'], 'VVFLSPGF': ['Q96A99-2'], 'VVFLSPGFV': ['Q96A99-2'], 'WDRALVPGEVA': ['Q96A99-2', 'Q15818'], 'WDRALVPGEV': ['Q96A99-2', 'Q15818'], 'WDRALVPGE': ['Q96A99-2', 'Q15818'], 'WDRALVPG': ['Q96A99-2'], 'WHHICVIWTST': ['Q96A99-2', 'Q15818', 'P47972', 'O95502', 'Q4LDE5-4', 'Q4LDE5', 'Q96M86', 'Q96M86-4'], 'WHHICVIWTS': ['Q96A99-2', 'Q15818', 'P47972', 'O95502', 'Q4LDE5-4', 'Q4LDE5', 'Q8IZF6', 'Q8IZF6-2', 'Q96M86', 'Q96M86-4'], 'WHHICVIWT': ['Q96A99-2', 'Q15818', 'P47972', 'O95502', 'Q8IZF6', 'Q8IZF6-2', 'Q96M86', 'Q4LDE5-4', 'Q4LDE5', 'Q96M86-4', 'Q96MN2', 'Q96MN2-3', 'Q96MN2-2'], 'WHHICVIW': ['Q96A99-2', 'Q15818', 'P47972', 'O95502', 'Q8IZF6', 'Q8IZF6-2', 'Q96M86', 'Q96M86-4'], 'WLHVDRRLVAT': ['Q96A99-2'], 'WLHVDRRLVA': ['Q96A99-2'], 'WLHVDRRLV': ['Q96A99-2'], 'WLHVDRRL': ['Q96A99-2'], 'WSPQVPGEICG': ['Q96A99-2'], 'WSPQVPGEIC': ['Q96A99-2'], 'WSPQVPGEI': ['Q96A99-2'], 'WSPQVPGE': ['Q96A99-2'], 'WTHLQNIASN': ['Q96A99-2'], 'WTHLQNIASNY': ['Q96A99-2'], 'WTHLQNIAS': ['Q96A99-2'], 'WTHLQNIA': ['Q96A99-2'], 'WTSTQGRYWLH': ['Q96A99-2'], 'WTSTQGRYWL': ['Q96A99-2'], 'WTSTQGRY': ['Q96A99-2'], 'WTSTQGRYW': ['Q96A99-2'], 'WVRKLQRRGRK': ['Q96A99-2'], 'WVRKLQRRGR': ['Q96A99-2'], 'WVRKLQRRG': ['Q96A99-2'], 'WVRTASGRLGT': ['Q96A99-2'], 'WVRTASGRLG': ['Q96A99-2'], 'WVRTASGRL': ['Q96A99-2'], 'YATEDNDNKLV': ['Q96A99-2'], 'YATEDNDNKL': ['Q96A99-2'], 'YATEDNDNK': ['Q96A99-2'], 'YATEDNDN': ['Q96A99-2'], 'YEIPPGGSLVL': ['Q96A99-2'], 'YEIPPGGSLV': ['Q96A99-2'], 'YEIPPGGSL': ['Q96A99-2'], 'YNVDVRFRSLA': ['Q96A99-2'], 'YNVDVRFRSL': ['Q96A99-2'], 'YNVDVRFRS': ['Q96A99-2'], 'YNVDVRFR': ['Q96A99-2'], 'YNVSYNVDVRF': ['Q96A99-2'], 'YNVSYNVDVR': ['Q96A99-2'], 'YNVSYNVDV': ['Q96A99-2'], 'YNVSYNVD': ['Q96A99-2'], 'YWLHVDRRLVA': ['Q96A99-2'], 'YWLHVDRRLV': ['Q96A99-2'], 'YWLHVDRRL': ['Q96A99-2'], 'YWLHVDRR': ['Q96A99-2'], 'AALAGGFVQGANCTC': ['Q96A99-2'], 'AALEGRLPVAHPGTA': ['Q96A99-2', 'P51784'], 'AALGPALVPTPTQPE': ['Q96A99-2'], 'AASEHRGPPQDSSAP': ['Q96A99-2'], 'AEESQAVAQAVNRSQ': ['Q96A99-2'], 'AFRELPLQLLLDGQW': ['Q96A99-2', 'O94967-4', 'O94967-3', 'O94967'], 'AFVGSMSGLAIWDRA': ['Q96A99-2'], 'AGGFVQGANCTCLER': ['Q96A99-2'], 'AHKAQRDALQDSLAR': ['Q96A99-2'], 'AHPGTAALGPALVPT': ['Q96A99-2', 'P15260'], 'AIGKEFPTGAILTLA': ['Q96A99-2'], 'AILTLANAALAGGFV': ['Q96A99-2'], 'AIWDRALVPGEVANL': ['Q96A99-2', 'Q15818', 'Q6QNK2-4', 'Q6QNK2'], 'ALAGGFVQGANCTCL': ['Q96A99-2'], 'ALDLTLGERSQQRAR': ['Q96A99-2'], 'ALEGRLPVAHPGTAA': ['Q96A99-2', 'P51784'], 'ALGPALVPTPTQPEE': ['Q96A99-2'], 'ALQDSLARLEGLVHS': ['Q96A99-2'], 'ALRALSFCSWVRTAS': ['Q96A99-2'], 'ALSFCSWVRTASGRL': ['Q96A99-2'], 'ALVPGEVANLAIGKE': ['Q96A99-2'], 'ALVPTPTQPEELGPT': ['Q96A99-2'], 'ANAALAGGFVQGANC': ['Q96A99-2'], 'ANLAIGKEFPTGAIL': ['Q96A99-2'], 'APKDPRQQAWSPQVP': ['Q96A99-2'], 'APLQGRREPPASGSH': ['Q96A99-2'], 'AQAVNRSQASVQGEL': ['Q96A99-2'], 'AQLKAWVRKLQRRGR': ['Q96A99-2'], 'AQRDALQDSLARLEG': ['Q96A99-2'], 'ARERKAHKAQRDALQ': ['Q96A99-2'], 'ARLAALEGRLPVAHP': ['Q96A99-2', 'P51784'], 'ARLEGLVHSQGARLA': ['Q96A99-2'], 'ASEHRGPPQDSSAPL': ['Q96A99-2'], 'ASGRLGTLLSYATED': ['Q96A99-2'], 'ASGSHRVLSGTAPKD': ['Q96A99-2'], 'ASNYNVSYNVDVRFR': ['Q96A99-2'], 'ASTRNVVFLSPGFVT': ['Q96A99-2'], 'ASVQGELAQLKAWVR': ['Q96A99-2'], 'ATEDNDNKLVLHGRD': ['Q96A99-2'], 'ATGSRFREGYEIPPG': ['Q96A99-2'], 'AVAQAVNRSQASVQG': ['Q96A99-2'], 'AVNRSQASVQGELAQ': ['Q96A99-2'], 'AWSPQVPGEICGVGP': ['Q96A99-2'], 'AWVRKLQRRGRKVDT': ['Q96A99-2'], 'CGVGPTLVFPNASTR': ['Q96A99-2'], 'CSWVRTASGRLGTLL': ['Q96A99-2'], 'CVIWTSTQGRYWLHV': ['Q96A99-2'], 'DALQDSLARLEGLVH': ['Q96A99-2'], 'DGQWHHICVIWTSTQ': ['Q96A99-2', 'P47972', 'Q15818', 'Q4LDE5-4', 'Q4LDE5', 'Q8IZF6', 'Q8IZF6-2', 'Q8NEZ4-3', 'Q8NEZ4-2', 'Q8NEZ4'], 'DLTLGERSQQRARER': ['Q96A99-2'], 'DNDNKLVLHGRDSLL': ['Q96A99-2'], 'DNKLVLHGRDSLLPG': ['Q96A99-2'], 'DPAFRELPLQLLLDG': ['Q96A99-2'], 'DPRQQAWSPQVPGEI': ['Q96A99-2'], 'DRALVPGEVANLAIG': ['Q96A99-2', 'Q15818'], 'DRQELRAASEHRGPP': ['Q96A99-2'], 'DRRLVATGSRFREGY': ['Q96A99-2'], 'DSLARLEGLVHSQGA': ['Q96A99-2'], 'DSLLPGSIHFVIGDP': ['Q96A99-2'], 'DSSAPLQGRREPPAS': ['Q96A99-2', 'O75952', 'O75952-2', 'O75952-6'], 'DSSEAFVGSMSGLAI': ['Q96A99-2'], 'DSVGGGFDSSEAFVG': ['Q96A99-2', 'Q15818', 'P47972', 'P02743', 'P26022'], 'DTRLRALDLTLGERS': ['Q96A99-2'], 'DVRFRSLAEESQAVA': ['Q96A99-2'], 'EAFVGSMSGLAIWDR': ['Q96A99-2'], 'EDNDNKLVLHGRDSL': ['Q96A99-2'], 'EELGPTSLKLQRDRQ': ['Q96A99-2'], 'EEQFRRFQEVTWTHL': ['Q96A99-2'], 'EESQAVAQAVNRSQA': ['Q96A99-2'], 'EFPTGAILTLANAAL': ['Q96A99-2'], 'EGLVHSQGARLAALE': ['Q96A99-2'], 'EGRLPVAHPGTAALG': ['Q96A99-2'], 'EGYEIPPGGSLVLGQ': ['Q96A99-2', 'Q4LDE5'], 'EHRGPPQDSSAPLQG': ['Q96A99-2'], 'EICGVGPTLVFPNAS': ['Q96A99-2'], 'EIPPGGSLVLGQEQD': ['Q96A99-2', 'Q4LDE5', 'P47972', 'Q7Z7M1', 'Q15818', 'O95502'], 'ELAQLKAWVRKLQRR': ['Q96A99-2'], 'ELGPTSLKLQRDRQE': ['Q96A99-2'], 'ELPLQLLLDGQWHHI': ['Q96A99-2', 'Q9UMN6', 'Q4LDE5', 'Q4LDE5-4'], 'ELRAASEHRGPPQDS': ['Q96A99-2'], 'EPPASGSHRVLSGTA': ['Q96A99-2', 'Q5TBA9'], 'EQDSVGGGFDSSEAF': ['Q96A99-2', 'Q15818', 'P47972', 'P02743'], 'EQFRRFQEVTWTHLQ': ['Q96A99-2'], 'ERKAHKAQRDALQDS': ['Q96A99-2'], 'ERSQQRARERKAHKA': ['Q96A99-2'], 'ESQAVAQAVNRSQAS': ['Q96A99-2'], 'EVANLAIGKEFPTGA': ['Q96A99-2'], 'EVTWTHLQNIASNYN': ['Q96A99-2'], 'FCSWVRTASGRLGTL': ['Q96A99-2'], 'FDSSEAFVGSMSGLA': ['Q96A99-2'], 'FLSPGFVTALRALSF': ['Q96A99-2', 'Q6ZRQ5', 'Q8NI27'], 'FPNASTRNVVFLSPG': ['Q96A99-2'], 'FPTGAILTLANAALA': ['Q96A99-2'], 'FQEVTWTHLQNIASN': ['Q96A99-2'], 'FREGYEIPPGGSLVL': ['Q96A99-2'], 'FRELPLQLLLDGQWH': ['Q96A99-2', 'Q16787', 'Q16787-3', 'Q16787-1', 'Q16787-4', 'O94967-3', 'O94967', 'O94967-4'], 'FRRFQEVTWTHLQNI': ['Q96A99-2', 'Q9BZ67', 'Q9BZ67-3', 'Q9BZ67-2'], 'FRSLAEESQAVAQAV': ['Q96A99-2'], 'FVGSMSGLAIWDRAL': ['Q96A99-2'], 'FVIGDPAFRELPLQL': ['Q96A99-2'], 'FVTALRALSFCSWVR': ['Q96A99-2'], 'GAILTLANAALAGGF': ['Q96A99-2'], 'GARLAALEGRLPVAH': ['Q96A99-2', 'P51784'], 'GDPAFRELPLQLLLD': ['Q96A99-2'], 'GEICGVGPTLVFPNA': ['Q96A99-2'], 'GELAQLKAWVRKLQR': ['Q96A99-2'], 'GERSQQRARERKAHK': ['Q96A99-2'], 'GEVANLAIGKEFPTG': ['Q96A99-2'], 'GFDSSEAFVGSMSGL': ['Q96A99-2'], 'GFVQGANCTCLERCP': ['Q96A99-2'], 'GFVTALRALSFCSWV': ['Q96A99-2'], 'GGFDSSEAFVGSMSG': ['Q96A99-2'], 'GGFVQGANCTCLERC': ['Q96A99-2'], 'GGGFDSSEAFVGSMS': ['Q96A99-2'], 'GGSLVLGQEQDSVGG': ['Q96A99-2', 'P47972', 'Q7Z7M1', 'Q4LDE5', 'P02741', 'Q15818', 'P02743', 'O95502', 'A8MV57'], 'GKEFPTGAILTLANA': ['Q96A99-2'], 'GLAIWDRALVPGEVA': ['Q96A99-2', 'Q15818', 'Q6QNK2-4', 'Q6QNK2'], 'GLVHSQGARLAALEG': ['Q96A99-2', 'P25440-2', 'P25440', 'P25440-3', 'P25440-4'], 'GPALVPTPTQPEELG': ['Q96A99-2'], 'GPPQDSSAPLQGRRE': ['Q96A99-2'], 'GPTLVFPNASTRNVV': ['Q96A99-2'], 'GPTSLKLQRDRQELR': ['Q96A99-2'], 'GQEQDSVGGGFDSSE': ['Q96A99-2', 'P02743', 'Q15818', 'P47972', 'Q7Z7M1', 'A8MV57', 'P02741'], 'GQWHHICVIWTSTQG': ['Q96A99-2', 'P47972', 'Q15818', 'Q8NEZ4-3', 'Q8NEZ4-2', 'Q8NEZ4'], 'GRDSLLPGSIHFVIG': ['Q96A99-2'], 'GRKVDTRLRALDLTL': ['Q96A99-2'], 'GRLGTLLSYATEDND': ['Q96A99-2'], 'GRLPVAHPGTAALGP': ['Q96A99-2'], 'GRREPPASGSHRVLS': ['Q96A99-2', 'Q5TBA9'], 'GRYWLHVDRRLVATG': ['Q96A99-2'], 'GSHRVLSGTAPKDPR': ['Q96A99-2'], 'GSIHFVIGDPAFREL': ['Q96A99-2'], 'GSLVLGQEQDSVGGG': ['Q96A99-2', 'Q7Z7M1', 'Q15818', 'P47972', 'P02741', 'Q4LDE5', 'P02743', 'O95502', 'A8MV57'], 'GSMSGLAIWDRALVP': ['Q96A99-2'], 'GSRFREGYEIPPGGS': ['Q96A99-2'], 'GTAALGPALVPTPTQ': ['Q96A99-2', 'P15260'], 'GTAPKDPRQQAWSPQ': ['Q96A99-2'], 'GTLLSYATEDNDNKL': ['Q96A99-2'], 'GVGPTLVFPNASTRN': ['Q96A99-2'], 'GYEIPPGGSLVLGQE': ['Q96A99-2', 'Q4LDE5'], 'HFVIGDPAFRELPLQ': ['Q96A99-2'], 'HGRDSLLPGSIHFVI': ['Q96A99-2'], 'HHICVIWTSTQGRYW': ['Q96A99-2', 'Q15818'], 'HICVIWTSTQGRYWL': ['Q96A99-2'], 'HKAQRDALQDSLARL': ['Q96A99-2'], 'HLQNIASNYNVSYNV': ['Q96A99-2'], 'HPGTAALGPALVPTP': ['Q96A99-2', 'P15260'], 'HRGPPQDSSAPLQGR': ['Q96A99-2'], 'HRVLSGTAPKDPRQQ': ['Q96A99-2'], 'HSQGARLAALEGRLP': ['Q96A99-2'], 'HVDRRLVATGSRFRE': ['Q96A99-2'], 'IASNYNVSYNVDVRF': ['Q96A99-2'], 'ICGVGPTLVFPNAST': ['Q96A99-2'], 'ICVIWTSTQGRYWLH': ['Q96A99-2'], 'IGDPAFRELPLQLLL': ['Q96A99-2'], 'IGKEFPTGAILTLAN': ['Q96A99-2'], 'IHFVIGDPAFRELPL': ['Q96A99-2'], 'ILTLANAALAGGFVQ': ['Q96A99-2'], 'IPPGGSLVLGQEQDS': ['Q96A99-2', 'Q4LDE5', 'P47972', 'Q7Z7M1', 'Q15818', 'O95502'], 'IWDRALVPGEVANLA': ['Q96A99-2', 'Q15818', 'Q6QNK2-4', 'Q6QNK2'], 'IWTSTQGRYWLHVDR': ['Q96A99-2'], 'KAHKAQRDALQDSLA': ['Q96A99-2'], 'KAQRDALQDSLARLE': ['Q96A99-2', 'Q96L93-5', 'Q96L93-6', 'Q96L93-4', 'Q96L93-2', 'Q96L93'], 'KAWVRKLQRRGRKVD': ['Q96A99-2'], 'KDPRQQAWSPQVPGE': ['Q96A99-2'], 'KEFPTGAILTLANAA': ['Q96A99-2'], 'KLQRDRQELRAASEH': ['Q96A99-2'], 'KLQRRGRKVDTRLRA': ['Q96A99-2'], 'KLVLHGRDSLLPGSI': ['Q96A99-2'], 'KVDTRLRALDLTLGE': ['Q96A99-2'], 'LAALEGRLPVAHPGT': ['Q96A99-2', 'P51784'], 'LAEESQAVAQAVNRS': ['Q96A99-2'], 'LAGGFVQGANCTCLE': ['Q96A99-2'], 'LAIGKEFPTGAILTL': ['Q96A99-2'], 'LAIWDRALVPGEVAN': ['Q96A99-2', 'Q15818', 'Q6QNK2-4', 'Q6QNK2'], 'LANAALAGGFVQGAN': ['Q96A99-2'], 'LAQLKAWVRKLQRRG': ['Q96A99-2'], 'LARLEGLVHSQGARL': ['Q96A99-2'], 'LDGQWHHICVIWTST': ['Q96A99-2', 'Q15818', 'P47972', 'Q4LDE5-4', 'Q4LDE5', 'Q96M86', 'Q8IZF6', 'Q8IZF6-2', 'Q96M86-4', 'Q8NEZ4-3', 'Q8NEZ4-2', 'Q8NEZ4'], 'LDLTLGERSQQRARE': ['Q96A99-2'], 'LEEQFRRFQEVTWTH': ['Q96A99-2'], 'LEGLVHSQGARLAAL': ['Q96A99-2'], 'LEGRLPVAHPGTAAL': ['Q96A99-2'], 'LGERSQQRARERKAH': ['Q96A99-2'], 'LGPALVPTPTQPEEL': ['Q96A99-2'], 'LGPTSLKLQRDRQEL': ['Q96A99-2'], 'LGQEQDSVGGGFDSS': ['Q96A99-2', 'P02743', 'Q15818', 'P47972', 'Q7Z7M1', 'O95502', 'A8MV57', 'P02741'], 'LGTLLSYATEDNDNK': ['Q96A99-2'], 'LHGRDSLLPGSIHFV': ['Q96A99-2'], 'LHVDRRLVATGSRFR': ['Q96A99-2'], 'LKAWVRKLQRRGRKV': ['Q96A99-2'], 'LKLQRDRQELRAASE': ['Q96A99-2'], 'LLDGQWHHICVIWTS': ['Q96A99-2', 'Q15818', 'P47972', 'Q4LDE5-4', 'Q4LDE5', 'Q8IZF6', 'Q8IZF6-2', 'Q96M86', 'Q96M86-4', 'Q8NEZ4-3', 'Q8NEZ4-2', 'Q8NEZ4'], 'LLLDGQWHHICVIWT': ['Q96A99-2', 'Q15818', 'P47972', 'Q4LDE5-4', 'Q4LDE5', 'Q8IZF6', 'Q8IZF6-2', 'Q96M86', 'Q96M86-4', 'Q9UMN6', 'Q16363', 'Q16363-2', 'Q8NEZ4-3', 'Q8NEZ4-2', 'Q8NEZ4'], 'LLPGSIHFVIGDPAF': ['Q96A99-2'], 'LLSYATEDNDNKLVL': ['Q96A99-2'], 'LPGSIHFVIGDPAFR': ['Q96A99-2'], 'LPLQLLLDGQWHHIC': ['Q96A99-2', 'Q15818', 'P47972', 'Q9UMN6', 'Q7Z7M1', 'Q4LDE5-4', 'O95502', 'Q4LDE5'], 'LPVAHPGTAALGPAL': ['Q96A99-2'], 'LQDSLARLEGLVHSQ': ['Q96A99-2'], 'LQGRREPPASGSHRV': ['Q96A99-2', 'A5X5Y0-6', 'Q5TBA9'], 'LQLLLDGQWHHICVI': ['Q96A99-2', 'Q15818', 'P47972', 'Q7Z7M1', 'Q4LDE5', 'Q4LDE5-4', 'Q9UMN6', 'Q8NEZ4-3', 'Q8NEZ4-2', 'Q8NEZ4'], 'LQNIASNYNVSYNVD': ['Q96A99-2'], 'LQRDRQELRAASEHR': ['Q96A99-2', 'P50995-2', 'P50995'], 'LQRRGRKVDTRLRAL': ['Q96A99-2'], 'LRAASEHRGPPQDSS': ['Q96A99-2'], 'LRALDLTLGERSQQR': ['Q96A99-2'], 'LRALSFCSWVRTASG': ['Q96A99-2'], 'LSFCSWVRTASGRLG': ['Q96A99-2'], 'LSGTAPKDPRQQAWS': ['Q96A99-2'], 'LSPGFVTALRALSFC': ['Q96A99-2', 'Q8NI27'], 'LSYATEDNDNKLVLH': ['Q96A99-2'], 'LTLANAALAGGFVQG': ['Q96A99-2'], 'LTLGERSQQRARERK': ['Q96A99-2'], 'LVATGSRFREGYEIP': ['Q96A99-2'], 'LVFPNASTRNVVFLS': ['Q96A99-2'], 'LVHSQGARLAALEGR': ['Q96A99-2', 'P25440-3', 'P25440-2', 'P25440', 'P25440-4'], 'LVLGQEQDSVGGGFD': ['Q96A99-2', 'Q15818', 'Q7Z7M1', 'P47972', 'P02743', 'O95502', 'A8MV57', 'P02741', 'Q4LDE5'], 'LVLHGRDSLLPGSIH': ['Q96A99-2'], 'LVPGEVANLAIGKEF': ['Q96A99-2'], 'LVPTPTQPEELGPTS': ['Q96A99-2'], 'MSGLAIWDRALVPGE': ['Q96A99-2', 'Q15818'], 'NAALAGGFVQGANCT': ['Q96A99-2'], 'NASTRNVVFLSPGFV': ['Q96A99-2'], 'NDNKLVLHGRDSLLP': ['Q96A99-2'], 'NIASNYNVSYNVDVR': ['Q96A99-2'], 'NKLVLHGRDSLLPGS': ['Q96A99-2'], 'NLAIGKEFPTGAILT': ['Q96A99-2'], 'NRSQASVQGELAQLK': ['Q96A99-2'], 'NVDVRFRSLAEESQA': ['Q96A99-2'], 'NVSYNVDVRFRSLAE': ['Q96A99-2'], 'NVVFLSPGFVTALRA': ['Q96A99-2'], 'NYNVSYNVDVRFRSL': ['Q96A99-2'], 'PAFRELPLQLLLDGQ': ['Q96A99-2'], 'PALVPTPTQPEELGP': ['Q96A99-2'], 'PASGSHRVLSGTAPK': ['Q96A99-2'], 'PEELGPTSLKLQRDR': ['Q96A99-2'], 'PGEICGVGPTLVFPN': ['Q96A99-2'], 'PGEVANLAIGKEFPT': ['Q96A99-2'], 'PGFVTALRALSFCSW': ['Q96A99-2', 'Q8NI27'], 'PGGSLVLGQEQDSVG': ['Q96A99-2', 'P47972', 'Q4LDE5', 'Q15818', 'O95502', 'Q7Z7M1', 'P02741', 'P02743'], 'PGSIHFVIGDPAFRE': ['Q96A99-2'], 'PGTAALGPALVPTPT': ['Q96A99-2', 'P15260'], 'PKDPRQQAWSPQVPG': ['Q96A99-2'], 'PLQGRREPPASGSHR': ['Q96A99-2'], 'PLQLLLDGQWHHICV': ['Q96A99-2', 'Q15818', 'P47972', 'Q9UMN6', 'Q6ZS81', 'Q6ZS81-5', 'Q6ZS81-4', 'Q7Z7M1', 'Q4LDE5-4', 'Q4LDE5'], 'PNASTRNVVFLSPGF': ['Q96A99-2'], 'PPASGSHRVLSGTAP': ['Q96A99-2'], 'PPGGSLVLGQEQDSV': ['Q96A99-2', 'P47972', 'Q4LDE5', 'Q7Z7M1', 'Q15818'], 'PPQDSSAPLQGRREP': ['Q96A99-2'], 'PQDSSAPLQGRREPP': ['Q96A99-2'], 'PQVPGEICGVGPTLV': ['Q96A99-2'], 'PRQQAWSPQVPGEIC': ['Q96A99-2'], 'PTGAILTLANAALAG': ['Q96A99-2'], 'PTLVFPNASTRNVVF': ['Q96A99-2'], 'PTPTQPEELGPTSLK': ['Q96A99-2'], 'PTQPEELGPTSLKLQ': ['Q96A99-2', 'Q7Z6Z7-2', 'Q7Z6Z7', 'Q7Z6Z7-3'], 'PTSLKLQRDRQELRA': ['Q96A99-2'], 'PVAHPGTAALGPALV': ['Q96A99-2'], 'QASVQGELAQLKAWV': ['Q96A99-2'], 'QAVAQAVNRSQASVQ': ['Q96A99-2'], 'QAVNRSQASVQGELA': ['Q96A99-2'], 'QAWSPQVPGEICGVG': ['Q96A99-2'], 'QDSLARLEGLVHSQG': ['Q96A99-2'], 'QDSSAPLQGRREPPA': ['Q96A99-2', 'O75952', 'O75952-6', 'O75952-2'], 'QDSVGGGFDSSEAFV': ['Q96A99-2', 'Q15818', 'P47972', 'P02743'], 'QELRAASEHRGPPQD': ['Q96A99-2'], 'QEQDSVGGGFDSSEA': ['Q96A99-2', 'Q15818', 'P02743', 'P47972'], 'QEVTWTHLQNIASNY': ['Q96A99-2'], 'QFRRFQEVTWTHLQN': ['Q96A99-2', 'Q9BZ67', 'Q9BZ67-3', 'Q9BZ67-2'], 'QGARLAALEGRLPVA': ['Q96A99-2'], 'QGELAQLKAWVRKLQ': ['Q96A99-2'], 'QGRREPPASGSHRVL': ['Q96A99-2', 'A5X5Y0-6', 'Q5TBA9'], 'QGRYWLHVDRRLVAT': ['Q96A99-2'], 'QLKAWVRKLQRRGRK': ['Q96A99-2'], 'QLLLDGQWHHICVIW': ['Q96A99-2', 'Q15818', 'P47972', 'Q8IZF6', 'Q8IZF6-2', 'Q96M86', 'Q9UMN6', 'Q96M86-4', 'Q8NEZ4-3', 'Q8NEZ4-2', 'Q8NEZ4'], 'QNIASNYNVSYNVDV': ['Q96A99-2'], 'QPEELGPTSLKLQRD': ['Q96A99-2'], 'QQAWSPQVPGEICGV': ['Q96A99-2'], 'QQRARERKAHKAQRD': ['Q96A99-2'], 'QRARERKAHKAQRDA': ['Q96A99-2'], 'QRDALQDSLARLEGL': ['Q96A99-2'], 'QRDRQELRAASEHRG': ['Q96A99-2', 'P50995-2', 'P50995'], 'QRRGRKVDTRLRALD': ['Q96A99-2'], 'QVPGEICGVGPTLVF': ['Q96A99-2', 'Q96P47-5'], 'QWHHICVIWTSTQGR': ['Q96A99-2', 'Q8NEZ4-3', 'Q8NEZ4-2', 'Q8NEZ4'], 'RAASEHRGPPQDSSA': ['Q96A99-2'], 'RALDLTLGERSQQRA': ['Q96A99-2'], 'RALSFCSWVRTASGR': ['Q96A99-2'], 'RALVPGEVANLAIGK': ['Q96A99-2', 'Q15818'], 'RARERKAHKAQRDAL': ['Q96A99-2'], 'RDALQDSLARLEGLV': ['Q96A99-2'], 'RDRQELRAASEHRGP': ['Q96A99-2'], 'RDSLLPGSIHFVIGD': ['Q96A99-2'], 'REGYEIPPGGSLVLG': ['Q96A99-2'], 'RELPLQLLLDGQWHH': ['Q96A99-2', 'Q16787', 'Q16787-3', 'Q16787-4', 'Q16787-1', 'Q9UMN6'], 'REPPASGSHRVLSGT': ['Q96A99-2', 'Q5TBA9'], 'RERKAHKAQRDALQD': ['Q96A99-2'], 'RFQEVTWTHLQNIAS': ['Q96A99-2', 'Q9BZ67', 'Q9BZ67-3', 'Q9BZ67-2'], 'RFREGYEIPPGGSLV': ['Q96A99-2'], 'RFRSLAEESQAVAQA': ['Q96A99-2'], 'RGPPQDSSAPLQGRR': ['Q96A99-2'], 'RGRKVDTRLRALDLT': ['Q96A99-2'], 'RKAHKAQRDALQDSL': ['Q96A99-2'], 'RKLQRRGRKVDTRLR': ['Q96A99-2'], 'RKVDTRLRALDLTLG': ['Q96A99-2'], 'RLAALEGRLPVAHPG': ['Q96A99-2', 'P51784'], 'RLEEQFRRFQEVTWT': ['Q96A99-2'], 'RLEGLVHSQGARLAA': ['Q96A99-2'], 'RLGTLLSYATEDNDN': ['Q96A99-2'], 'RLPVAHPGTAALGPA': ['Q96A99-2'], 'RLRALDLTLGERSQQ': ['Q96A99-2'], 'RLVATGSRFREGYEI': ['Q96A99-2'], 'RNVVFLSPGFVTALR': ['Q96A99-2'], 'RQELRAASEHRGPPQ': ['Q96A99-2'], 'RQQAWSPQVPGEICG': ['Q96A99-2'], 'RREPPASGSHRVLSG': ['Q96A99-2', 'Q5TBA9'], 'RRFQEVTWTHLQNIA': ['Q96A99-2', 'Q9BZ67', 'Q9BZ67-3', 'Q9BZ67-2'], 'RRGRKVDTRLRALDL': ['Q96A99-2'], 'RRLEEQFRRFQEVTW': ['Q96A99-2'], 'RRLVATGSRFREGYE': ['Q96A99-2'], 'RSLAEESQAVAQAVN': ['Q96A99-2'], 'RSQASVQGELAQLKA': ['Q96A99-2'], 'RSQQRARERKAHKAQ': ['Q96A99-2'], 'RTASGRLGTLLSYAT': ['Q96A99-2'], 'RVLSGTAPKDPRQQA': ['Q96A99-2'], 'RYWLHVDRRLVATGS': ['Q96A99-2'], 'SAPLQGRREPPASGS': ['Q96A99-2'], 'SEAFVGSMSGLAIWD': ['Q96A99-2'], 'SEHRGPPQDSSAPLQ': ['Q96A99-2'], 'SFCSWVRTASGRLGT': ['Q96A99-2'], 'SGLAIWDRALVPGEV': ['Q96A99-2', 'Q15818'], 'SGRLGTLLSYATEDN': ['Q96A99-2'], 'SGSHRVLSGTAPKDP': ['Q96A99-2'], 'SGTAPKDPRQQAWSP': ['Q96A99-2'], 'SHRVLSGTAPKDPRQ': ['Q96A99-2'], 'SIHFVIGDPAFRELP': ['Q96A99-2'], 'SLAEESQAVAQAVNR': ['Q96A99-2'], 'SLARLEGLVHSQGAR': ['Q96A99-2'], 'SLKLQRDRQELRAAS': ['Q96A99-2'], 'SLLPGSIHFVIGDPA': ['Q96A99-2'], 'SLVLGQEQDSVGGGF': ['Q96A99-2', 'Q7Z7M1', 'Q15818', 'P47972', 'P02743', 'P02741', 'Q4LDE5', 'O95502', 'A8MV57'], 'SMSGLAIWDRALVPG': ['Q96A99-2'], 'SNYNVSYNVDVRFRS': ['Q96A99-2'], 'SPGFVTALRALSFCS': ['Q96A99-2', 'Q8NI27'], 'SPQVPGEICGVGPTL': ['Q96A99-2'], 'SQASVQGELAQLKAW': ['Q96A99-2'], 'SQAVAQAVNRSQASV': ['Q96A99-2'], 'SQGARLAALEGRLPV': ['Q96A99-2'], 'SQQRARERKAHKAQR': ['Q96A99-2'], 'SRFREGYEIPPGGSL': ['Q96A99-2'], 'SSAPLQGRREPPASG': ['Q96A99-2', 'O75952', 'O75952-6', 'O75952-2'], 'SSEAFVGSMSGLAIW': ['Q96A99-2'], 'STQGRYWLHVDRRLV': ['Q96A99-2'], 'STRNVVFLSPGFVTA': ['Q96A99-2'], 'SVGGGFDSSEAFVGS': ['Q96A99-2', 'P26022'], 'SVQGELAQLKAWVRK': ['Q96A99-2'], 'SWVRTASGRLGTLLS': ['Q96A99-2'], 'SYATEDNDNKLVLHG': ['Q96A99-2'], 'SYNVDVRFRSLAEES': ['Q96A99-2'], 'TAALGPALVPTPTQP': ['Q96A99-2', 'P15260'], 'TALRALSFCSWVRTA': ['Q96A99-2'], 'TAPKDPRQQAWSPQV': ['Q96A99-2'], 'TASGRLGTLLSYATE': ['Q96A99-2'], 'TEDNDNKLVLHGRDS': ['Q96A99-2'], 'TGAILTLANAALAGG': ['Q96A99-2'], 'TGSRFREGYEIPPGG': ['Q96A99-2'], 'THLQNIASNYNVSYN': ['Q96A99-2'], 'TLANAALAGGFVQGA': ['Q96A99-2'], 'TLGERSQQRARERKA': ['Q96A99-2'], 'TLLSYATEDNDNKLV': ['Q96A99-2'], 'TLVFPNASTRNVVFL': ['Q96A99-2'], 'TPTQPEELGPTSLKL': ['Q96A99-2', 'Q7Z6Z7-2'], 'TQGRYWLHVDRRLVA': ['Q96A99-2'], 'TQPEELGPTSLKLQR': ['Q96A99-2'], 'TRLRALDLTLGERSQ': ['Q96A99-2'], 'TRNVVFLSPGFVTAL': ['Q96A99-2'], 'TSLKLQRDRQELRAA': ['Q96A99-2'], 'TSTQGRYWLHVDRRL': ['Q96A99-2'], 'TWTHLQNIASNYNVS': ['Q96A99-2'], 'VAHPGTAALGPALVP': ['Q96A99-2'], 'VANLAIGKEFPTGAI': ['Q96A99-2'], 'VAQAVNRSQASVQGE': ['Q96A99-2'], 'VATGSRFREGYEIPP': ['Q96A99-2'], 'VDRRLVATGSRFREG': ['Q96A99-2'], 'VDTRLRALDLTLGER': ['Q96A99-2'], 'VDVRFRSLAEESQAV': ['Q96A99-2'], 'VFLSPGFVTALRALS': ['Q96A99-2', 'Q6ZRQ5'], 'VFPNASTRNVVFLSP': ['Q96A99-2'], 'VGGGFDSSEAFVGSM': ['Q96A99-2'], 'VGPTLVFPNASTRNV': ['Q96A99-2'], 'VGSMSGLAIWDRALV': ['Q96A99-2'], 'VHSQGARLAALEGRL': ['Q96A99-2'], 'VIGDPAFRELPLQLL': ['Q96A99-2'], 'VIWTSTQGRYWLHVD': ['Q96A99-2'], 'VLGQEQDSVGGGFDS': ['Q96A99-2', 'Q15818', 'Q7Z7M1', 'P02743', 'P47972', 'O95502', 'A8MV57', 'P02741', 'Q4LDE5'], 'VLHGRDSLLPGSIHF': ['Q96A99-2', 'P29350-3', 'P29350', 'P29350-2', 'P29350-4'], 'VLSGTAPKDPRQQAW': ['Q96A99-2'], 'VNRSQASVQGELAQL': ['Q96A99-2'], 'VPGEICGVGPTLVFP': ['Q96A99-2'], 'VPGEVANLAIGKEFP': ['Q96A99-2'], 'VPTPTQPEELGPTSL': ['Q96A99-2'], 'VQGELAQLKAWVRKL': ['Q96A99-2'], 'VRFRSLAEESQAVAQ': ['Q96A99-2'], 'VRKLQRRGRKVDTRL': ['Q96A99-2'], 'VRTASGRLGTLLSYA': ['Q96A99-2'], 'VSYNVDVRFRSLAEE': ['Q96A99-2'], 'VTALRALSFCSWVRT': ['Q96A99-2'], 'VTWTHLQNIASNYNV': ['Q96A99-2'], 'VVFLSPGFVTALRAL': ['Q96A99-2', 'Q6ZRQ5'], 'WDRALVPGEVANLAI': ['Q96A99-2', 'Q15818'], 'WHHICVIWTSTQGRY': ['Q96A99-2', 'Q15818'], 'WLHVDRRLVATGSRF': ['Q96A99-2'], 'WSPQVPGEICGVGPT': ['Q96A99-2'], 'WTHLQNIASNYNVSY': ['Q96A99-2'], 'WTSTQGRYWLHVDRR': ['Q96A99-2'], 'WVRKLQRRGRKVDTR': ['Q96A99-2'], 'WVRTASGRLGTLLSY': ['Q96A99-2'], 'YATEDNDNKLVLHGR': ['Q96A99-2'], 'YEIPPGGSLVLGQEQ': ['Q96A99-2', 'Q4LDE5', 'P47972', 'Q15818'], 'YNVDVRFRSLAEESQ': ['Q96A99-2'], 'YNVSYNVDVRFRSLA': ['Q96A99-2'], 'YWLHVDRRLVATGSR': ['Q96A99-2']}\n"
     ]
    }
   ],
   "source": [
    "#print(Homoblastp_parsDict[\"Q96A99\"])"
   ]
  },
  {
   "cell_type": "markdown",
   "id": "9300eaed-b695-4c94-8adf-543b1a94d99c",
   "metadata": {},
   "source": [
    "## Step3: Parser the enzymedigest file"
   ]
  },
  {
   "cell_type": "code",
   "execution_count": 10,
   "id": "2cac6839-b048-48c8-b400-250efe4dfd06",
   "metadata": {},
   "outputs": [],
   "source": [
    "## Parser the enzymedigest file\n",
    "EnzDigeDict={}\n",
    "with open(enzymedigest,\"r\") as enzymef:\n",
    "    for line in enzymef.readlines():\n",
    "        refseq = re.split(',\"\\[',line)[0].split(\",\")[-1]\n",
    "        refid = re.split(',\"\\[',line)[0].split(\"|\")[1]\n",
    "        seqlist = re.split(',\"\\[',line)[1].strip().replace(']\"','').replace(\"'\",\"\").split(\",\")\n",
    "        EnzDigeDict[refid]=seqlist\n",
    "#print(EnzDigeDict)"
   ]
  },
  {
   "cell_type": "code",
   "execution_count": 11,
   "id": "f82b836a-217b-4169-ac9e-fba1fa43ba12",
   "metadata": {},
   "outputs": [
    {
     "name": "stdout",
     "output_type": "stream",
     "text": [
      "ls: cannot access '/home/jovyan/work/02.ResDev/12.TAA_epitope_human/05.AML_TAA_Epitope/06.EnzymeDisgest/protein.merge.enzymedigest': No such file or directory\n"
     ]
    }
   ],
   "source": [
    "ls /home/jovyan/work/02.ResDev/12.TAA_epitope_human/05.AML_TAA_Epitope/06.EnzymeDisgest/protein.merge.enzymedigest"
   ]
  },
  {
   "cell_type": "code",
   "execution_count": 12,
   "id": "040d2680-3aa3-4c0a-95fa-f737ff0506ef",
   "metadata": {},
   "outputs": [],
   "source": [
    "## Parser the netMHC.csv\n",
    "mergeoutfile =  open(outpath+\"/MHCI_Epitopeonly_SB_WB.csv\",\"w\")\n",
    "filenum = 0\n",
    "for file in glob.glob(path_mhcI + \"/*.netMHC.csv\"):\n",
    "    filenum +=1\n",
    "    filename= os.path.basename(file)\n",
    "    outfile = open(outpath1+\"/\"+filename,\"w\")\n",
    "    with open(file,\"r\") as eptf:\n",
    "        for line in eptf.readlines():\n",
    "            itemlist = line.rstrip().split(\",\")\n",
    "            \"\"\"\n",
    "            itemlist is the line content of netMHC result\n",
    "            \"\"\"\n",
    "            if line.startswith(\"Pos\"):\n",
    "                appendlist = [\"TransMemb\",\"InCutmerRate\",\"InCutmerRegion\",\"HomoExsit\",\"HomoId\"]\n",
    "                outfile.write(\",\".join(itemlist+appendlist)+\"\\n\")\n",
    "                if filenum == 1:\n",
    "                    mergeoutfile.write(\",\".join(itemlist+appendlist)+\"\\n\")\n",
    "            else:\n",
    "                pos1 = int(itemlist[0])-1\n",
    "                peptide = itemlist[2]\n",
    "                pos2 = pos1 + len(peptide)\n",
    "                seqid = itemlist[10].split(\"_\")[1]\n",
    "                midpos = int((pos1+pos2)/2)\n",
    "                \n",
    "                ## get Transmembrane info\n",
    "                TM_f = TM_parsDict[seqid][midpos]\n",
    "                TM_flag = flagDict[TM_f]\n",
    "                \n",
    "                ## get enzymedigest info\n",
    "                size0 = 0\n",
    "                overseq0 = \"\"\n",
    "                for seq in EnzDigeDict[seqid]:\n",
    "                    size,overseq = get_overlap(peptide,seq)\n",
    "                    if size > size0:\n",
    "                        size0 = size\n",
    "                        overseq0 = overseq\n",
    "                Cut_flag = '\"'+str(size0)+\"/\"+str(len(peptide))+'\"'\n",
    "                Cut_seq = overseq0\n",
    "                \n",
    "                ## get homolgous info\n",
    "                if (homobed_or_blasp == \"homobed\") or (homobed_or_blasp == \"bedblastp\"):\n",
    "                    HomoEx,Homo_flag = get_homodict_bed(Homo_parsDict,seqid,pos1,pos2)\n",
    "                elif (homobed_or_blasp == \"homoblastp\") or (homobed_or_blasp == \"bedblastp\"):\n",
    "                    HomoEx,Homo_flag = get_homodict_blastp(Homoblastp_parsDict,seqid,peptide)\n",
    "                ##  output the results with filtering the \"SB\" lines\n",
    "                if (itemlist[-1] == \"SB\") or (itemlist[-1] == \"WB\"):\n",
    "                    appendlist = [TM_flag,Cut_flag,Cut_seq,HomoEx,Homo_flag]\n",
    "                    mergeoutfile.write(\",\".join(itemlist+appendlist)+\"\\n\")\n",
    "                else:\n",
    "                    appendlist = [\"\",TM_flag,Cut_flag,HomoEx,Homo_flag]\n",
    "                outfile.write(\",\".join(itemlist+appendlist)+\"\\n\")\n",
    "    outfile.close()"
   ]
  },
  {
   "cell_type": "code",
   "execution_count": 13,
   "id": "6a9d9a9b-65b7-401c-8988-3ab3a31decbe",
   "metadata": {},
   "outputs": [],
   "source": [
    "## Parser the netMHC.csv\n",
    "mergeoutfile2 =  open(outpath+\"/MHCII_Epitope_only_SB_WB.csv\",\"w\")\n",
    "filenum = 0\n",
    "for file in glob.glob(path_mhcII + \"/*.netMHC.csv\"):\n",
    "    filenum += 1\n",
    "    filename= os.path.basename(file)\n",
    "    outfile = open(outpath2+\"/\"+filename,\"w\")\n",
    "    with open(file,\"r\") as eptf:\n",
    "        for line in eptf.readlines():\n",
    "            itemlist = line.rstrip().split(\",\")\n",
    "            if line.startswith(\"Pos\"):\n",
    "                appendlist = [\"TransMemb\",\"InCutmerRate\",\"InCutmerRegion\",\"HomoExsit\",\"HomoId\"]\n",
    "                outfile.write(\",\".join(itemlist+appendlist)+\"\\n\")\n",
    "                if filenum == 1:\n",
    "                    mergeoutfile2.write(\",\".join(itemlist+appendlist)+\"\\n\")\n",
    "            else:\n",
    "                pos1 = int(itemlist[0])-1\n",
    "                peptide = itemlist[2]\n",
    "                pos2 = pos1 + len(peptide)\n",
    "                seqid = itemlist[6].split(\"|\")[1]\n",
    "                midpos = int((pos1+pos2)/2)\n",
    "                \n",
    "                ## get Transmembrane info\n",
    "                TM_f = TM_parsDict[seqid][midpos]\n",
    "                TM_flag = flagDict[TM_f]\n",
    "                \n",
    "                ## get enzymedigest info\n",
    "                size0 = 0\n",
    "                overseq0 = \"\"\n",
    "                for seq in EnzDigeDict[seqid]:\n",
    "                    size,overseq = get_overlap(peptide,seq)\n",
    "                    if size > size0:\n",
    "                        size0 = size\n",
    "                        overseq0 = overseq\n",
    "                Cut_flag = '\"'+str(size0)+\"/\"+str(len(peptide))+'\"'\n",
    "                Cut_seq = overseq0\n",
    "                \n",
    "                ## get homolgous info\n",
    "                if (homobed_or_blasp == \"homobed\") or (homobed_or_blasp == \"bedblastp\"):\n",
    "                    HomoEx,Homo_flag = get_homodict_bed(Homo_parsDict,seqid,pos1,pos2)\n",
    "                elif (homobed_or_blasp == \"homoblastp\") or (homobed_or_blasp == \"bedblastp\"):\n",
    "                    HomoEx,Homo_flag = get_homodict_blastp(Homoblastp_parsDict,seqid,peptide)\n",
    "                        \n",
    "                ##  output the results with filtering the \"SB\" lines\n",
    "                if (itemlist[-1] == \"SB\") or (itemlist[-1] == \"WB\"):\n",
    "                    appendlist = [TM_flag,Cut_flag,Cut_seq,HomoEx,Homo_flag]\n",
    "                    mergeoutfile2.write(\",\".join(itemlist+appendlist)+\"\\n\")\n",
    "                else:\n",
    "                    appendlist = [\"\",TM_flag,HomoEx,Homo_flag]\n",
    "                outfile.write(\",\".join(itemlist+appendlist)+\"\\n\")\n",
    "    outfile.close()"
   ]
  },
  {
   "cell_type": "code",
   "execution_count": 14,
   "id": "086e723d-f739-48b8-9150-18ec99fb8571",
   "metadata": {},
   "outputs": [
    {
     "name": "stdout",
     "output_type": "stream",
     "text": [
      "['a', 'b', 'c']\n"
     ]
    }
   ],
   "source": [
    "mylist = [\"a\", \"b\", \"a\", \"c\", \"c\"]\n",
    "mylist = list(dict.fromkeys(mylist))\n",
    "print(mylist)"
   ]
  },
  {
   "cell_type": "code",
   "execution_count": 15,
   "id": "1b171a04-923e-4041-80b1-8f96fc71f33c",
   "metadata": {},
   "outputs": [
    {
     "data": {
      "text/plain": [
       "'a;b;c'"
      ]
     },
     "execution_count": 15,
     "metadata": {},
     "output_type": "execute_result"
    }
   ],
   "source": [
    "\";\".join(list(dict.fromkeys(mylist)))"
   ]
  },
  {
   "cell_type": "code",
   "execution_count": 16,
   "id": "30820400-d110-4e68-9479-b68976a8263d",
   "metadata": {},
   "outputs": [
    {
     "name": "stdout",
     "output_type": "stream",
     "text": [
      "6 14\n"
     ]
    }
   ],
   "source": [
    "fasta = 'CGTAGCGGCTGAGTGCGCGGATAGCGCGTA'\n",
    "target = 'CGGCTGAGT'\n",
    "\n",
    "start = fasta.find(target)+1\n",
    "end = start + len(target) -1\n",
    "\n",
    "print(start, end)"
   ]
  },
  {
   "cell_type": "code",
   "execution_count": 17,
   "id": "d12915d3-b7be-4afc-9e96-c3174ba3a873",
   "metadata": {},
   "outputs": [
    {
     "name": "stdout",
     "output_type": "stream",
     "text": [
      "GGCTCCCCACGGGGTACCCATAACTTGACAGTAGATCTC\n"
     ]
    }
   ],
   "source": [
    "import difflib\n",
    "\n",
    "def get_overlap(s1, s2):\n",
    "    s = difflib.SequenceMatcher(None, s1, s2)\n",
    "    pos_a, pos_b, size = s.find_longest_match(0, len(s1), 0, len(s2)) \n",
    "    return s1[pos_a:pos_a+size]\n",
    "\n",
    "s1 = \"CGATTCCAGGCTCCCCACGGGGTACCCATAACTTGACAGTAGATCTC\"\n",
    "s2 = \"GGCTCCCCACGGGGTACCCATAACTTGACAGTAGATCTCGTCCAGACCCCTAGC\"\n",
    "\n",
    "print(get_overlap(s1, s2)) # GGCTCCCCACGGGGTACCCATAACTTGACAGTAGATCTC"
   ]
  },
  {
   "cell_type": "code",
   "execution_count": null,
   "id": "4896f0d1-2ac8-4302-95cf-f34381a5f90a",
   "metadata": {},
   "outputs": [],
   "source": []
  },
  {
   "cell_type": "code",
   "execution_count": null,
   "id": "65807a26-5f1e-46b1-a62a-29139d0695ca",
   "metadata": {},
   "outputs": [],
   "source": []
  }
 ],
 "metadata": {
  "kernelspec": {
   "display_name": "Python 3 (ipykernel)",
   "language": "python",
   "name": "python3"
  },
  "language_info": {
   "codemirror_mode": {
    "name": "ipython",
    "version": 3
   },
   "file_extension": ".py",
   "mimetype": "text/x-python",
   "name": "python",
   "nbconvert_exporter": "python",
   "pygments_lexer": "ipython3",
   "version": "3.9.12"
  }
 },
 "nbformat": 4,
 "nbformat_minor": 5
}
